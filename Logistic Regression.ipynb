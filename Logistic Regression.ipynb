{
  "metadata": {
    "kernelspec": {
      "name": "python",
      "display_name": "Python (Pyodide)",
      "language": "python"
    },
    "language_info": {
      "codemirror_mode": {
        "name": "python",
        "version": 3
      },
      "file_extension": ".py",
      "mimetype": "text/x-python",
      "name": "python",
      "nbconvert_exporter": "python",
      "pygments_lexer": "ipython3",
      "version": "3.8"
    }
  },
  "nbformat_minor": 5,
  "nbformat": 4,
  "cells": [
    {
      "cell_type": "markdown",
      "source": "# Logistic Regression with Scikit Learn\n\n*Adapted from https://github.com/justmarkham*\n\n### Libraries\n\n- [scikit-learn](http://scikit-learn.org/stable/)\n- pandas\n- matplotlib\n\nIn this tutorial we will see some basic examples of Logistic Regression for classification.",
      "metadata": {},
      "id": "85d7a139-90d5-4a97-bed0-0f7a529d3c40"
    },
    {
      "cell_type": "code",
      "source": "import pandas as pd\nimport numpy as np\nimport matplotlib.pyplot as plt\nfrom sklearn.linear_model import LogisticRegression\nfrom sklearn.model_selection import cross_val_predict\nfrom sklearn.model_selection import cross_val_score\n%matplotlib inline",
      "metadata": {
        "trusted": true
      },
      "execution_count": 1,
      "outputs": [],
      "id": "b76f5893-066d-4548-ab49-0b5ab26118e4"
    },
    {
      "cell_type": "markdown",
      "source": "## Classification with Logistic Regression\n\n|*|continuous|categorical|\n|---|---|---|\n|**supervised**|regression|**classification**|\n|**unsupervised**|dim. reduction|clustering|",
      "metadata": {},
      "id": "9d781255-6acf-41ee-bea1-d183ac81de4d"
    },
    {
      "cell_type": "markdown",
      "source": "# Predicting Titanic survival with Logistic Regression\n\nLet's use the data obtained by the _Encyclopedia Titanica_ to predict if a passenger survived the Titanic disaster.\n\n<img src=\"img/titanic.jpg\" width=\"600\">\n\nLet's import the dataset _titanic.csv_ (_hint_ use the `read_csv` pandas function):",
      "metadata": {},
      "id": "91f5b58d-3eca-428b-9689-eec6fb497ec4"
    },
    {
      "cell_type": "code",
      "source": "titanic = pd.read_csv(\"data/titanic.csv\", sep=',')\ntitanic.head(5)",
      "metadata": {
        "trusted": true
      },
      "execution_count": 12,
      "outputs": [
        {
          "execution_count": 12,
          "output_type": "execute_result",
          "data": {
            "text/plain": "   survived                                             name     sex      age  \\\n0         1                    Allen, Miss. Elisabeth Walton  female  29.0000   \n1         1                   Allison, Master. Hudson Trevor    male   0.9167   \n2         0                     Allison, Miss. Helen Loraine  female   2.0000   \n3         0             Allison, Mr. Hudson Joshua Creighton    male  30.0000   \n4         0  Allison, Mrs. Hudson J C (Bessie Waldo Daniels)  female  25.0000   \n\n   sibsp  parch  ticket      fare    cabin embarked  \n0      0      0   24160  211.3375       B5        S  \n1      1      2  113781  151.5500  C22 C26        S  \n2      1      2  113781  151.5500  C22 C26        S  \n3      1      2  113781  151.5500  C22 C26        S  \n4      1      2  113781  151.5500  C22 C26        S  ",
            "text/html": "<div>\n<style scoped>\n    .dataframe tbody tr th:only-of-type {\n        vertical-align: middle;\n    }\n\n    .dataframe tbody tr th {\n        vertical-align: top;\n    }\n\n    .dataframe thead th {\n        text-align: right;\n    }\n</style>\n<table border=\"1\" class=\"dataframe\">\n  <thead>\n    <tr style=\"text-align: right;\">\n      <th></th>\n      <th>survived</th>\n      <th>name</th>\n      <th>sex</th>\n      <th>age</th>\n      <th>sibsp</th>\n      <th>parch</th>\n      <th>ticket</th>\n      <th>fare</th>\n      <th>cabin</th>\n      <th>embarked</th>\n    </tr>\n  </thead>\n  <tbody>\n    <tr>\n      <th>0</th>\n      <td>1</td>\n      <td>Allen, Miss. Elisabeth Walton</td>\n      <td>female</td>\n      <td>29.0000</td>\n      <td>0</td>\n      <td>0</td>\n      <td>24160</td>\n      <td>211.3375</td>\n      <td>B5</td>\n      <td>S</td>\n    </tr>\n    <tr>\n      <th>1</th>\n      <td>1</td>\n      <td>Allison, Master. Hudson Trevor</td>\n      <td>male</td>\n      <td>0.9167</td>\n      <td>1</td>\n      <td>2</td>\n      <td>113781</td>\n      <td>151.5500</td>\n      <td>C22 C26</td>\n      <td>S</td>\n    </tr>\n    <tr>\n      <th>2</th>\n      <td>0</td>\n      <td>Allison, Miss. Helen Loraine</td>\n      <td>female</td>\n      <td>2.0000</td>\n      <td>1</td>\n      <td>2</td>\n      <td>113781</td>\n      <td>151.5500</td>\n      <td>C22 C26</td>\n      <td>S</td>\n    </tr>\n    <tr>\n      <th>3</th>\n      <td>0</td>\n      <td>Allison, Mr. Hudson Joshua Creighton</td>\n      <td>male</td>\n      <td>30.0000</td>\n      <td>1</td>\n      <td>2</td>\n      <td>113781</td>\n      <td>151.5500</td>\n      <td>C22 C26</td>\n      <td>S</td>\n    </tr>\n    <tr>\n      <th>4</th>\n      <td>0</td>\n      <td>Allison, Mrs. Hudson J C (Bessie Waldo Daniels)</td>\n      <td>female</td>\n      <td>25.0000</td>\n      <td>1</td>\n      <td>2</td>\n      <td>113781</td>\n      <td>151.5500</td>\n      <td>C22 C26</td>\n      <td>S</td>\n    </tr>\n  </tbody>\n</table>\n</div>"
          },
          "metadata": {}
        }
      ],
      "id": "a8825f63-3dbc-4df6-815a-be3e9900330a"
    },
    {
      "cell_type": "markdown",
      "source": "What are the **features**?\n- name: Name of the passenger\n- sex: Male or Female\n- age: Age in years\n- sibsp: # of siblings / spouses aboard the Titanic\n- parch: # of parents / children aboard the Titanic\n- ticket: Ticket number\n- fare: Ticket price\n- cabin: Cabin number\n- embarked: Port of Embarkation\n\nWhat is the **response**?\n- survived: whether the passenger survived the disaster or not",
      "metadata": {},
      "id": "876a964d-bde0-476d-bf42-211bf3b44ba7"
    },
    {
      "cell_type": "markdown",
      "source": "Print the number of survivors and death passengers, as well as the percentage of survivors. Is the dataset balanced?",
      "metadata": {},
      "id": "eba2c674-445a-4ae4-91ae-f770cdd9a30b"
    },
    {
      "cell_type": "code",
      "source": "titanic['survived']",
      "metadata": {
        "trusted": true
      },
      "execution_count": 13,
      "outputs": [
        {
          "execution_count": 13,
          "output_type": "execute_result",
          "data": {
            "text/plain": "0       1\n1       1\n2       0\n3       0\n4       0\n       ..\n1304    0\n1305    0\n1306    0\n1307    0\n1308    0\nName: survived, Length: 1309, dtype: int64"
          },
          "metadata": {}
        }
      ],
      "id": "03e3f7f8-b6dd-4bb2-9362-60776c244a4d"
    },
    {
      "cell_type": "code",
      "source": "dead = titanic[titanic['survived']==0]\nsurvived = titanic[titanic['survived']==1]\nnumber_of_deads = len(dead)\nnumber_of_survivors = len(survived)\npercentage_of_dead = (number_of_deads/len(titanic))*100\npercentage_of_survivors = (number_of_survivors/len(titanic))*100\n\n# print the required information\nprint('Number of deads : ', number_of_deads, '\\n','Percentage of deads : ', percentage_of_dead)\nprint('\\nNumber of survivors : ', number_of_survivors, '\\n','Percentage of survivors : ', percentage_of_survivors)",
      "metadata": {
        "trusted": true
      },
      "execution_count": 24,
      "outputs": [
        {
          "name": "stdout",
          "text": "Number of deads :  809 \n Percentage of deads :  61.80290297937356\n\nNumber of survivors :  500 \n Percentage of survivors :  38.19709702062643\n",
          "output_type": "stream"
        }
      ],
      "id": "68a5a09b-0b7c-4f96-847a-a718163af0a0"
    },
    {
      "cell_type": "markdown",
      "source": "Specify the columns to use as features:",
      "metadata": {},
      "id": "59de4e4d-22bd-4cb8-afb4-36a193541aa8"
    },
    {
      "cell_type": "code",
      "source": "titanic_features = ['sex', 'age', 'sibsp', 'parch', 'fare']",
      "metadata": {
        "trusted": true
      },
      "execution_count": 25,
      "outputs": [],
      "id": "cc00ffbe-64af-441e-992a-63233a714f24"
    },
    {
      "cell_type": "markdown",
      "source": "For the sake of this execise, we can assume the other features (name, cabin number, embarked) are not predictive.",
      "metadata": {},
      "id": "03402cd9-b466-4c95-a7d8-abcc213d6d74"
    },
    {
      "cell_type": "markdown",
      "source": "### Let's prepare the feature vector for the training\n\nThe dataset contains one categorical variable: sex (male|female)\n\nWe need to convert it to a numerical variable. Use the pandas method `get_dummies` to take care of this. Check https://pandas.pydata.org/docs/reference/api/pandas.get_dummies.html",
      "metadata": {},
      "id": "fbb16f8c-45ce-46b0-8154-c4bff6a47dc7"
    },
    {
      "cell_type": "code",
      "source": "X = pd.get_dummies(titanic[titanic_features])\nX.head()",
      "metadata": {
        "trusted": true
      },
      "execution_count": 49,
      "outputs": [
        {
          "execution_count": 49,
          "output_type": "execute_result",
          "data": {
            "text/plain": "       age  sibsp  parch      fare  sex_female  sex_male\n0  29.0000      0      0  211.3375           1         0\n1   0.9167      1      2  151.5500           0         1\n2   2.0000      1      2  151.5500           1         0\n3  30.0000      1      2  151.5500           0         1\n4  25.0000      1      2  151.5500           1         0",
            "text/html": "<div>\n<style scoped>\n    .dataframe tbody tr th:only-of-type {\n        vertical-align: middle;\n    }\n\n    .dataframe tbody tr th {\n        vertical-align: top;\n    }\n\n    .dataframe thead th {\n        text-align: right;\n    }\n</style>\n<table border=\"1\" class=\"dataframe\">\n  <thead>\n    <tr style=\"text-align: right;\">\n      <th></th>\n      <th>age</th>\n      <th>sibsp</th>\n      <th>parch</th>\n      <th>fare</th>\n      <th>sex_female</th>\n      <th>sex_male</th>\n    </tr>\n  </thead>\n  <tbody>\n    <tr>\n      <th>0</th>\n      <td>29.0000</td>\n      <td>0</td>\n      <td>0</td>\n      <td>211.3375</td>\n      <td>1</td>\n      <td>0</td>\n    </tr>\n    <tr>\n      <th>1</th>\n      <td>0.9167</td>\n      <td>1</td>\n      <td>2</td>\n      <td>151.5500</td>\n      <td>0</td>\n      <td>1</td>\n    </tr>\n    <tr>\n      <th>2</th>\n      <td>2.0000</td>\n      <td>1</td>\n      <td>2</td>\n      <td>151.5500</td>\n      <td>1</td>\n      <td>0</td>\n    </tr>\n    <tr>\n      <th>3</th>\n      <td>30.0000</td>\n      <td>1</td>\n      <td>2</td>\n      <td>151.5500</td>\n      <td>0</td>\n      <td>1</td>\n    </tr>\n    <tr>\n      <th>4</th>\n      <td>25.0000</td>\n      <td>1</td>\n      <td>2</td>\n      <td>151.5500</td>\n      <td>1</td>\n      <td>0</td>\n    </tr>\n  </tbody>\n</table>\n</div>"
          },
          "metadata": {}
        }
      ],
      "id": "981c3ecf-a4e3-4191-9479-02d8a990cb90"
    },
    {
      "cell_type": "markdown",
      "source": "The categorical feature _sex_ is converted in 2 boolean features.\n\nTitanic sank in 1912: it was a lot of time ago! Some data may be missing. Let's check if there are undefined values. Use pandas' `isna` for this purpose: https://pandas.pydata.org/docs/reference/api/pandas.DataFrame.isna.html",
      "metadata": {},
      "id": "990b4061-2596-4d10-89bd-1825369d4261"
    },
    {
      "cell_type": "code",
      "source": "# add your code here\nX[X.isna().any(axis=1)]",
      "metadata": {
        "trusted": true
      },
      "execution_count": 52,
      "outputs": [
        {
          "execution_count": 52,
          "output_type": "execute_result",
          "data": {
            "text/plain": "      age  sibsp  parch     fare  sex_female  sex_male\n15    NaN      0      0  25.9250           0         1\n37    NaN      0      0  26.5500           0         1\n40    NaN      0      0  39.6000           0         1\n46    NaN      0      0  31.0000           0         1\n59    NaN      0      0  27.7208           1         0\n...   ...    ...    ...      ...         ...       ...\n1293  NaN      0      0   8.0500           0         1\n1297  NaN      0      0   7.2500           0         1\n1302  NaN      0      0   7.2250           0         1\n1303  NaN      0      0  14.4583           0         1\n1305  NaN      1      0  14.4542           1         0\n\n[264 rows x 6 columns]",
            "text/html": "<div>\n<style scoped>\n    .dataframe tbody tr th:only-of-type {\n        vertical-align: middle;\n    }\n\n    .dataframe tbody tr th {\n        vertical-align: top;\n    }\n\n    .dataframe thead th {\n        text-align: right;\n    }\n</style>\n<table border=\"1\" class=\"dataframe\">\n  <thead>\n    <tr style=\"text-align: right;\">\n      <th></th>\n      <th>age</th>\n      <th>sibsp</th>\n      <th>parch</th>\n      <th>fare</th>\n      <th>sex_female</th>\n      <th>sex_male</th>\n    </tr>\n  </thead>\n  <tbody>\n    <tr>\n      <th>15</th>\n      <td>NaN</td>\n      <td>0</td>\n      <td>0</td>\n      <td>25.9250</td>\n      <td>0</td>\n      <td>1</td>\n    </tr>\n    <tr>\n      <th>37</th>\n      <td>NaN</td>\n      <td>0</td>\n      <td>0</td>\n      <td>26.5500</td>\n      <td>0</td>\n      <td>1</td>\n    </tr>\n    <tr>\n      <th>40</th>\n      <td>NaN</td>\n      <td>0</td>\n      <td>0</td>\n      <td>39.6000</td>\n      <td>0</td>\n      <td>1</td>\n    </tr>\n    <tr>\n      <th>46</th>\n      <td>NaN</td>\n      <td>0</td>\n      <td>0</td>\n      <td>31.0000</td>\n      <td>0</td>\n      <td>1</td>\n    </tr>\n    <tr>\n      <th>59</th>\n      <td>NaN</td>\n      <td>0</td>\n      <td>0</td>\n      <td>27.7208</td>\n      <td>1</td>\n      <td>0</td>\n    </tr>\n    <tr>\n      <th>...</th>\n      <td>...</td>\n      <td>...</td>\n      <td>...</td>\n      <td>...</td>\n      <td>...</td>\n      <td>...</td>\n    </tr>\n    <tr>\n      <th>1293</th>\n      <td>NaN</td>\n      <td>0</td>\n      <td>0</td>\n      <td>8.0500</td>\n      <td>0</td>\n      <td>1</td>\n    </tr>\n    <tr>\n      <th>1297</th>\n      <td>NaN</td>\n      <td>0</td>\n      <td>0</td>\n      <td>7.2500</td>\n      <td>0</td>\n      <td>1</td>\n    </tr>\n    <tr>\n      <th>1302</th>\n      <td>NaN</td>\n      <td>0</td>\n      <td>0</td>\n      <td>7.2250</td>\n      <td>0</td>\n      <td>1</td>\n    </tr>\n    <tr>\n      <th>1303</th>\n      <td>NaN</td>\n      <td>0</td>\n      <td>0</td>\n      <td>14.4583</td>\n      <td>0</td>\n      <td>1</td>\n    </tr>\n    <tr>\n      <th>1305</th>\n      <td>NaN</td>\n      <td>1</td>\n      <td>0</td>\n      <td>14.4542</td>\n      <td>1</td>\n      <td>0</td>\n    </tr>\n  </tbody>\n</table>\n<p>264 rows × 6 columns</p>\n</div>"
          },
          "metadata": {}
        }
      ],
      "id": "19b252ba-fad3-47aa-8e49-15713bb58b77"
    },
    {
      "cell_type": "markdown",
      "source": "Let's try to fix the data with a basic imputation method: replacing the missing values with the mean. Use pandas' `fillna` for this purpose: https://pandas.pydata.org/pandas-docs/stable/reference/api/pandas.DataFrame.fillna.html. The `any` method can also be useful  https://pandas.pydata.org/docs/reference/api/pandas.DataFrame.any.html\n\nMore info: https://en.wikipedia.org/wiki/Imputation_(statistics)",
      "metadata": {},
      "id": "b82f36d0-06f2-46f5-8bf3-277056e299b0"
    },
    {
      "cell_type": "code",
      "source": "#X = titanic.any(skipna=False)\n#X = X.fillna(method='bfill')\nX = X.fillna(X.mean())\n\n# check if X has any missing values\nlen(X[X.isna().any(axis=1)])\n",
      "metadata": {
        "trusted": true
      },
      "execution_count": 58,
      "outputs": [
        {
          "execution_count": 58,
          "output_type": "execute_result",
          "data": {
            "text/plain": "0"
          },
          "metadata": {}
        }
      ],
      "id": "dd1af4f9-2bfe-4ea3-8b7c-fcd0611d9925"
    },
    {
      "cell_type": "markdown",
      "source": "Create the label vector `y`:",
      "metadata": {},
      "id": "193863ff-7cdd-4716-a824-18b519d4c5ff"
    },
    {
      "cell_type": "code",
      "source": "y = titanic.survived",
      "metadata": {
        "trusted": true
      },
      "execution_count": 60,
      "outputs": [],
      "id": "e89437d0-65f0-47eb-a964-0e6eabbccdb4"
    },
    {
      "cell_type": "markdown",
      "source": "Let's create a Logistic Regression model...",
      "metadata": {},
      "id": "63006e3f-6b94-49a0-b0bc-9306d13ac5ef"
    },
    {
      "cell_type": "code",
      "source": "logistic = LogisticRegression()",
      "metadata": {
        "trusted": true
      },
      "execution_count": 63,
      "outputs": [],
      "id": "695b148b-38c3-43fc-b268-0e5db9cd1e55"
    },
    {
      "cell_type": "markdown",
      "source": "... and evaluate the precison/recall with a cross validation (10 splits). For this, use the `cross_val_score` implementation provided by `sklearn` and already imported above. _Hint:_ check the `scoring` argument of this function: https://scikit-learn.org/stable/modules/generated/sklearn.model_selection.cross_val_score.html",
      "metadata": {},
      "id": "dd5285cb-ee57-4783-af97-3c4f1275c42a"
    },
    {
      "cell_type": "code",
      "source": "precision = cross_val_score(logistic, X, y, cv=10, scoring='precision')\nrecall = cross_val_score(logistic, X, y, cv=10, scoring='recall')\n\n# Precision: avoid false positives\nprint(\"Precision: %0.2f (+/- %0.2f)\" % (precision.mean(), precision.std() * 2))\n# Recall: avoid false negatives\nprint(\"Recall: %0.2f (+/- %0.2f)\" % (recall.mean(), recall.std() * 2))",
      "metadata": {
        "trusted": true
      },
      "execution_count": 66,
      "outputs": [
        {
          "name": "stdout",
          "text": "Precision: 0.72 (+/- 0.13)\nRecall: 0.67 (+/- 0.16)\n",
          "output_type": "stream"
        }
      ],
      "id": "615eb2b6-3e5d-4ba3-b323-8ce0782b22dc"
    },
    {
      "cell_type": "markdown",
      "source": "### Explore the model output\n\nLet's create a new Logistic Regression model and train it on the full dataset:",
      "metadata": {},
      "id": "088dd8e1-d678-4eb9-8461-a291ae1c0c64"
    },
    {
      "cell_type": "code",
      "source": "logistic = LogisticRegression()\n\n# Train the model\nlogistic.fit(X,y)",
      "metadata": {
        "trusted": true
      },
      "execution_count": 68,
      "outputs": [
        {
          "execution_count": 68,
          "output_type": "execute_result",
          "data": {
            "text/plain": "LogisticRegression()"
          },
          "metadata": {}
        }
      ],
      "id": "9c0cf4f4-ce9a-4d10-bb55-0aaf4f5ac246"
    },
    {
      "cell_type": "markdown",
      "source": "Of course, since we trained the whole dataset, we don't have new samples to predict, but we can predict the outcome and the relative probability for some artificial samples. Would you have survived?\n\nRemember the features:",
      "metadata": {},
      "id": "7403fb72-95f9-4ee9-8021-fa222d839028"
    },
    {
      "cell_type": "code",
      "source": "X.columns",
      "metadata": {
        "trusted": true
      },
      "execution_count": 69,
      "outputs": [
        {
          "execution_count": 69,
          "output_type": "execute_result",
          "data": {
            "text/plain": "Index(['age', 'sibsp', 'parch', 'fare', 'sex_female', 'sex_male'], dtype='object')"
          },
          "metadata": {}
        }
      ],
      "id": "257a1f79-40fc-436e-b2ac-0e01b6e27d6b"
    },
    {
      "cell_type": "markdown",
      "source": "Would a man, 25 years old without relative onboard, and with a fare of 100 survive? _Hint:_ use pandas' `predict` to make the prediction.",
      "metadata": {},
      "id": "6e5c22e4-0d02-4e07-8d83-c66102e80e14"
    },
    {
      "cell_type": "code",
      "source": "test = [25,0,0,100,0,1]\n\n# Check if he would have survived\nprint(\"YES\") if logistic.predict([test])[0]>0 else print(\"NO\")",
      "metadata": {
        "trusted": true
      },
      "execution_count": 85,
      "outputs": [
        {
          "name": "stderr",
          "text": "/lib/python3.10/site-packages/sklearn/base.py:450: UserWarning: X does not have valid feature names, but LogisticRegression was fitted with feature names\n  warnings.warn(\n",
          "output_type": "stream"
        },
        {
          "name": "stdout",
          "text": "NO\n",
          "output_type": "stream"
        }
      ],
      "id": "3da5f539-5c12-40fd-8935-083305628eca"
    },
    {
      "cell_type": "markdown",
      "source": "What is the probability distribution behind this prediction? _Hint:_ use pandas' `predict_proba` to find the prediction distribution.",
      "metadata": {},
      "id": "a242bd92-8169-4ef8-8768-82e046388a42"
    },
    {
      "cell_type": "code",
      "source": "# Probability distribution\nlogistic.predict_proba([test])",
      "metadata": {
        "trusted": true
      },
      "execution_count": 86,
      "outputs": [
        {
          "name": "stderr",
          "text": "/lib/python3.10/site-packages/sklearn/base.py:450: UserWarning: X does not have valid feature names, but LogisticRegression was fitted with feature names\n  warnings.warn(\n",
          "output_type": "stream"
        },
        {
          "execution_count": 86,
          "output_type": "execute_result",
          "data": {
            "text/plain": "array([[0.55322817, 0.44677183]])"
          },
          "metadata": {}
        }
      ],
      "id": "e9908001-402e-4619-b146-65d2542fccdf"
    },
    {
      "cell_type": "markdown",
      "source": "What about a woman, 35 years old, alone onboard and with the same fare?",
      "metadata": {},
      "id": "628f1d38-453b-400c-8da6-83cf8b29bf83"
    },
    {
      "cell_type": "code",
      "source": "test = [35,0,0,100,1,0]\n\n# Check if he would have survived\nprint(\"YES\") if logistic.predict([test])[0]>0 else print(\"NO\")\n\n# Probability distribution\nprint(\"proba : \",logistic.predict_proba([test]))",
      "metadata": {
        "tags": [],
        "trusted": true
      },
      "execution_count": 87,
      "outputs": [
        {
          "name": "stderr",
          "text": "/lib/python3.10/site-packages/sklearn/base.py:450: UserWarning: X does not have valid feature names, but LogisticRegression was fitted with feature names\n  warnings.warn(\n",
          "output_type": "stream"
        },
        {
          "name": "stdout",
          "text": "YES\n",
          "output_type": "stream"
        },
        {
          "name": "stderr",
          "text": "/lib/python3.10/site-packages/sklearn/base.py:450: UserWarning: X does not have valid feature names, but LogisticRegression was fitted with feature names\n  warnings.warn(\n",
          "output_type": "stream"
        },
        {
          "name": "stdout",
          "text": "proba :  [[0.11257807 0.88742193]]\n",
          "output_type": "stream"
        }
      ],
      "id": "7cf126e2-cc41-43cd-8a73-51abdf9600a3"
    },
    {
      "cell_type": "code",
      "source": "",
      "metadata": {},
      "execution_count": null,
      "outputs": [],
      "id": "446527b1-93ea-444b-9a4c-28e4814298f5"
    }
  ]
}