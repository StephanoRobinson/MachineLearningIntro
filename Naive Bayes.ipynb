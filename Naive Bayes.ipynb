{
  "metadata": {
    "kernelspec": {
      "name": "python",
      "display_name": "Python (Pyodide)",
      "language": "python"
    },
    "language_info": {
      "codemirror_mode": {
        "name": "python",
        "version": 3
      },
      "file_extension": ".py",
      "mimetype": "text/x-python",
      "name": "python",
      "nbconvert_exporter": "python",
      "pygments_lexer": "ipython3",
      "version": "3.8"
    }
  },
  "nbformat_minor": 5,
  "nbformat": 4,
  "cells": [
    {
      "cell_type": "markdown",
      "source": "# Naive Bayes Classifier\n\nIn this tutorial, you will learn how to classify the email as spam or not using the Naive Bayes Classifier.\n\n<img src=\"img/spam-filter.png\">\n\nFirst, let's review a little bit the characteristics of Naive Bayes Classifiers:",
      "metadata": {},
      "id": "1fc6ece4"
    },
    {
      "cell_type": "markdown",
      "source": "### Pro and cons of Naive Bayes Classifiers\nPros:\n* Computationally fast\n* Simple to implement\n* Works well with small datasets\n* Works well with high dimensions\n* Perform well even if the Naive Assumption is not perfectly met. In many cases, the approximation is enough to build a good classifier.\n\nCons:\n* Require to remove correlated features because they are voted twice in the model and it can lead to over inflating importance.\n* If a categorical variable has a category in test data set which was not observed in training data set, then the model will assign a zero probability. It will not be able to make a prediction. This is often known as “Zero Frequency”. To solve this, we can use the smoothing technique. One of the simplest smoothing techniques is called [Laplace estimation](https://stats.stackexchange.com/questions/108797/in-naive-bayes-why-bother-with-laplace-smoothing-when-we-have-unknown-words-in). `sklearn` applies Laplace smoothing by default when you train a Naive Bayes classifier.",
      "metadata": {},
      "id": "b679bc47"
    },
    {
      "cell_type": "markdown",
      "source": "### Popular use cases for Naive Bayes models\n\n* Spam Detection\n* Classification of the customer\n* Loan Classification\n* Health Risk Prediction",
      "metadata": {},
      "id": "8883b71d"
    },
    {
      "cell_type": "code",
      "source": "import numpy as np\nimport pandas as pd\nimport urllib\nimport sklearn\nfrom sklearn.linear_model import LogisticRegression\nfrom sklearn.naive_bayes import GaussianNB\nfrom sklearn.model_selection import train_test_split\nfrom sklearn.metrics import accuracy_score",
      "metadata": {
        "trusted": true
      },
      "execution_count": 1,
      "outputs": [],
      "id": "d4d9b205"
    },
    {
      "cell_type": "markdown",
      "source": "We will load the dataset containing the spam information:",
      "metadata": {},
      "id": "29695792"
    },
    {
      "cell_type": "code",
      "source": "dataset = np.loadtxt(\"data/spambase.data\",delimiter=\",\")\ndataset[0]",
      "metadata": {
        "trusted": true
      },
      "execution_count": 6,
      "outputs": [
        {
          "execution_count": 6,
          "output_type": "execute_result",
          "data": {
            "text/plain": "array([  0.   ,   0.64 ,   0.64 ,   0.   ,   0.32 ,   0.   ,   0.   ,\n         0.   ,   0.   ,   0.   ,   0.   ,   0.64 ,   0.   ,   0.   ,\n         0.   ,   0.32 ,   0.   ,   1.29 ,   1.93 ,   0.   ,   0.96 ,\n         0.   ,   0.   ,   0.   ,   0.   ,   0.   ,   0.   ,   0.   ,\n         0.   ,   0.   ,   0.   ,   0.   ,   0.   ,   0.   ,   0.   ,\n         0.   ,   0.   ,   0.   ,   0.   ,   0.   ,   0.   ,   0.   ,\n         0.   ,   0.   ,   0.   ,   0.   ,   0.   ,   0.   ,   0.   ,\n         0.   ,   0.   ,   0.778,   0.   ,   0.   ,   3.756,  61.   ,\n       278.   ,   1.   ])"
          },
          "metadata": {}
        }
      ],
      "id": "bf98ab79"
    },
    {
      "cell_type": "markdown",
      "source": "Print the number of rows and attributes contained in the dataset:",
      "metadata": {},
      "id": "95fd259b"
    },
    {
      "cell_type": "code",
      "source": "# add your code here\ndataset.shape",
      "metadata": {
        "trusted": true
      },
      "execution_count": 3,
      "outputs": [
        {
          "execution_count": 3,
          "output_type": "execute_result",
          "data": {
            "text/plain": "(4601, 58)"
          },
          "metadata": {}
        }
      ],
      "id": "f64c427c"
    },
    {
      "cell_type": "markdown",
      "source": "If you check the file `data/spambase_doc.txt` you can read the relevant information of the dataset.\n\nFor our purposes, we will use the following attributes:\n* The first 48 attributes as training features. These are continuous values ranged from 0 to 100, representing the percentage of words in the e-mail that match 48 different keywords, usually associated with spam/not spam e-mails.\n* The last attribute as target. It is a binary class attribute representing if the e-mail was considered spam (1) or not (0).\n\nExtract the features and target matrices by using `numpy` slicing operators.",
      "metadata": {},
      "id": "76e2151c"
    },
    {
      "cell_type": "code",
      "source": "x = dataset[:,:48]\ny = dataset[:,-1]",
      "metadata": {
        "trusted": true
      },
      "execution_count": 30,
      "outputs": [],
      "id": "d0505f20"
    },
    {
      "cell_type": "code",
      "source": "len(x[0])",
      "metadata": {
        "trusted": true
      },
      "execution_count": 31,
      "outputs": [
        {
          "execution_count": 31,
          "output_type": "execute_result",
          "data": {
            "text/plain": "48"
          },
          "metadata": {}
        }
      ],
      "id": "ceff4e62-538b-44ff-b9f5-6beb96bbeace"
    },
    {
      "cell_type": "markdown",
      "source": "Split the dataset into train and test with the test size of 0.33, and _ramdom_state=17_. For this, use `sklearn`'s method `train_test_split`, whose documentation can be found in https://scikit-learn.org/stable/modules/generated/sklearn.model_selection.train_test_split.html",
      "metadata": {},
      "id": "5055f764"
    },
    {
      "cell_type": "code",
      "source": "x_train, x_test, y_train, y_test = train_test_split(x, y, test_size=0.33, random_state=17)",
      "metadata": {
        "trusted": true
      },
      "execution_count": 32,
      "outputs": [],
      "id": "a63ea70d"
    },
    {
      "cell_type": "code",
      "source": "y_train",
      "metadata": {
        "trusted": true
      },
      "execution_count": 33,
      "outputs": [
        {
          "execution_count": 33,
          "output_type": "execute_result",
          "data": {
            "text/plain": "array([0., 1., 0., ..., 1., 0., 0.])"
          },
          "metadata": {}
        }
      ],
      "id": "62ff1c44-4e5d-4a11-b152-199c5a108d00"
    },
    {
      "cell_type": "code",
      "source": "y_test",
      "metadata": {
        "trusted": true
      },
      "execution_count": 34,
      "outputs": [
        {
          "execution_count": 34,
          "output_type": "execute_result",
          "data": {
            "text/plain": "array([1., 1., 1., ..., 1., 0., 1.])"
          },
          "metadata": {}
        }
      ],
      "id": "789422eb-0e5b-4bfe-9db9-738ffc9360f6"
    },
    {
      "cell_type": "markdown",
      "source": "Model a [Gaussian Naive Bayes Classifier](https://scikit-learn.org/stable/modules/generated/sklearn.naive_bayes.GaussianNB.html) on the dataset. For this, you can use the `GaussianNB` implementation by `sklearn`.\n\nAfter this, train the model using the training data.",
      "metadata": {},
      "id": "a3e42f38-c647-485e-913d-7d43b6ee927e"
    },
    {
      "cell_type": "code",
      "source": "GaussNB = GaussianNB()\nGaussNB.fit(x_train,y_train) # fit your model\n\nprint(GaussNB)",
      "metadata": {
        "trusted": true
      },
      "execution_count": 35,
      "outputs": [
        {
          "name": "stdout",
          "text": "GaussianNB()\n",
          "output_type": "stream"
        }
      ],
      "id": "1016e0fb-384f-469f-a5e5-c77088963293"
    },
    {
      "cell_type": "markdown",
      "source": "Using the train model, make predictions for the test features. Recall that you can use the function `.predict()` for this purpose.",
      "metadata": {},
      "id": "dd047c13"
    },
    {
      "cell_type": "code",
      "source": "y_predict = GaussNB.predict(x_test)\ny_predict",
      "metadata": {
        "trusted": true
      },
      "execution_count": 36,
      "outputs": [
        {
          "execution_count": 36,
          "output_type": "execute_result",
          "data": {
            "text/plain": "array([1., 1., 1., ..., 0., 0., 1.])"
          },
          "metadata": {}
        }
      ],
      "id": "d16bbb1b"
    },
    {
      "cell_type": "markdown",
      "source": "Use the `accuracy_score` function to compare the predictions against the real target values (`y_test`). Print the accuracy obtained.",
      "metadata": {},
      "id": "a65e7782"
    },
    {
      "cell_type": "code",
      "source": "acc = accuracy_score(y_test, y_predict)\nacc",
      "metadata": {
        "trusted": true
      },
      "execution_count": 38,
      "outputs": [
        {
          "execution_count": 38,
          "output_type": "execute_result",
          "data": {
            "text/plain": "0.8130348913759052"
          },
          "metadata": {}
        }
      ],
      "id": "421d851e"
    },
    {
      "cell_type": "markdown",
      "source": "### Compare with Logistic regression\n\nLet's make a quick comparison with a Logistic regression model trained on the same data:",
      "metadata": {},
      "id": "6dfb6a95"
    },
    {
      "cell_type": "code",
      "source": "log_reg = LogisticRegression()\nlog_reg.fit(x_train, y_train)\nprint(log_reg)\ny_predict = log_reg.predict(x_test)\nacc = accuracy_score(y_test, y_predict)\nprint (acc)",
      "metadata": {
        "tags": [],
        "trusted": true
      },
      "execution_count": 39,
      "outputs": [
        {
          "name": "stdout",
          "text": "LogisticRegression()\n0.9196840026333114\n",
          "output_type": "stream"
        }
      ],
      "id": "3334e574"
    },
    {
      "cell_type": "markdown",
      "source": "----\n\nWell done! We have implemented a spam detector algorithm that detects spam in emails with ~0.81 accuracy. A couple of remarks:\n1. Since we have chosen the best model based on the test results, in reality this dataset has acted as **validation** one. In order to perform a strict evaluation of the quality of the model, we should test the chosen algorithm against a fresh batch of data.\n2. We have chosen the accuracy score as performance metric. However, depending on the problem statement, other metrics would be more appropriate. Some of them are the Precision, Recall, F-1 Score, or Area Under the ROC curve.",
      "metadata": {},
      "id": "cc4f6a44"
    },
    {
      "cell_type": "code",
      "source": "",
      "metadata": {},
      "execution_count": null,
      "outputs": [],
      "id": "5dbc227f-1636-4aa7-9042-693412a0db14"
    }
  ]
}