{
  "metadata": {
    "kernelspec": {
      "name": "python",
      "display_name": "Python (Pyodide)",
      "language": "python"
    },
    "language_info": {
      "codemirror_mode": {
        "name": "python",
        "version": 3
      },
      "file_extension": ".py",
      "mimetype": "text/x-python",
      "name": "python",
      "nbconvert_exporter": "python",
      "pygments_lexer": "ipython3",
      "version": "3.8"
    }
  },
  "nbformat_minor": 5,
  "nbformat": 4,
  "cells": [
    {
      "cell_type": "markdown",
      "source": "# Handling data\n\nIn this tutorial session we explore the fundamental features of [Pandas](http://pandas.pydata.org/) and we practice the basics of Data Wrangling.\n\n----\n\n*Credits to: [Chris Fonnesbeck](https://github.com/fonnesbeck)  and [Michele Catasta](https://github.com/pirroh)*\n\n*Updated by: [Panayiotis Smeros](https://github.com/psmeros) and [Pablo Cañas](https://github.com/pcanas)*",
      "metadata": {},
      "id": "0d414c91"
    },
    {
      "cell_type": "markdown",
      "source": "# Introduction to Pandas\n\n**pandas** is a Python package providing fast, flexible, and expressive data structures designed to work with *relational* or *labeled* data both. It is a fundamental high-level building block for doing practical, real world data analysis in Python. \n\npandas is well suited for:\n\n- Tabular data with heterogeneously-typed columns, as in an SQL table or Excel spreadsheet\n- Ordered and unordered (not necessarily fixed-frequency) time series data.\n- Arbitrary matrix data (homogeneously typed or heterogeneous) with row and column labels\n- Any other form of observational / statistical data sets. The data actually need not be labeled at all to be placed into a pandas data structure\n\n\nKey features:\n    \n- Easy handling of **missing data**\n- **Size mutability**: columns can be inserted and deleted from DataFrame and higher dimensional objects\n- Automatic and explicit **data alignment**: objects can be explicitly aligned to a set of labels, or the data can be aligned automatically\n- Powerful, flexible **group by functionality** to perform split-apply-combine operations on data sets\n- Intelligent label-based **slicing, fancy indexing, and subsetting** of large data sets\n- Intuitive **merging and joining** data sets\n- **Time series functionality**: date range generation and frequency conversion, moving window statistics, moving window linear regressions, date shifting and lagging, etc.",
      "metadata": {},
      "id": "adb6836c"
    },
    {
      "cell_type": "code",
      "source": "import pandas as pd\nimport numpy as np\npd.options.mode.chained_assignment = None  # default='warn', Mutes warnings when copying a slice from a DataFrame.",
      "metadata": {
        "trusted": true
      },
      "execution_count": 1,
      "outputs": [],
      "id": "91dff3bb"
    },
    {
      "cell_type": "markdown",
      "source": "If you have an error about missing modules, try installing them in the command line:\n```\nconda install pandas\nconda install numpy\n```\n\nYou will need to install the optional dependency `xlrd` to read Microsoft Excel's files. To do so, run:\n```\nconda install xlrd\n```",
      "metadata": {},
      "id": "fdbc6c1e"
    },
    {
      "cell_type": "markdown",
      "source": "## Pandas Data Structures",
      "metadata": {},
      "id": "08225c14"
    },
    {
      "cell_type": "markdown",
      "source": "### Series\n\nA **Series** is a single vector of data (like a NumPy 1-d array) with an *index* that labels each element in the vector.",
      "metadata": {},
      "id": "e70a9cbd"
    },
    {
      "cell_type": "code",
      "source": "counts = pd.Series([632, 1638, 569, 115])\ncounts",
      "metadata": {
        "trusted": true
      },
      "execution_count": 2,
      "outputs": [
        {
          "execution_count": 2,
          "output_type": "execute_result",
          "data": {
            "text/plain": "0     632\n1    1638\n2     569\n3     115\ndtype: int64"
          },
          "metadata": {}
        }
      ],
      "id": "ac5d2e37"
    },
    {
      "cell_type": "markdown",
      "source": "If an <b>index</b> is not specified, a default sequence of integers is assigned as the index. A NumPy array comprises the values of the `Series`, while the index is a pandas `Index` object.",
      "metadata": {},
      "id": "c9c6bbad"
    },
    {
      "cell_type": "code",
      "source": "counts.values",
      "metadata": {
        "trusted": true
      },
      "execution_count": 3,
      "outputs": [
        {
          "execution_count": 3,
          "output_type": "execute_result",
          "data": {
            "text/plain": "array([ 632, 1638,  569,  115], dtype=int64)"
          },
          "metadata": {}
        }
      ],
      "id": "8ede176d"
    },
    {
      "cell_type": "code",
      "source": "counts.index",
      "metadata": {
        "trusted": true
      },
      "execution_count": 4,
      "outputs": [
        {
          "execution_count": 4,
          "output_type": "execute_result",
          "data": {
            "text/plain": "RangeIndex(start=0, stop=4, step=1)"
          },
          "metadata": {}
        }
      ],
      "id": "ac7739eb"
    },
    {
      "cell_type": "markdown",
      "source": "We can assign meaningful labels to the index, if they are available:",
      "metadata": {},
      "id": "634a22b9"
    },
    {
      "cell_type": "code",
      "source": "bacteria = pd.Series([632, 1638, 569, 115], \n    index=['Firmicutes', 'Proteobacteria', 'Actinobacteria', 'Bacteroidetes'])\n\nbacteria",
      "metadata": {
        "trusted": true
      },
      "execution_count": 6,
      "outputs": [
        {
          "execution_count": 6,
          "output_type": "execute_result",
          "data": {
            "text/plain": "Firmicutes         632\nProteobacteria    1638\nActinobacteria     569\nBacteroidetes      115\ndtype: int64"
          },
          "metadata": {}
        }
      ],
      "id": "018884da"
    },
    {
      "cell_type": "markdown",
      "source": "These labels can be used to refer to the values in the `Series`.",
      "metadata": {},
      "id": "1a50ed85"
    },
    {
      "cell_type": "code",
      "source": "bacteria['Actinobacteria'] #dictionary style",
      "metadata": {
        "trusted": true
      },
      "execution_count": 7,
      "outputs": [
        {
          "execution_count": 7,
          "output_type": "execute_result",
          "data": {
            "text/plain": "569"
          },
          "metadata": {}
        }
      ],
      "id": "59da585c"
    },
    {
      "cell_type": "markdown",
      "source": "Notice that the indexing operation preserved the association between the values and the corresponding indices.\n\nWe can still use <b>positional indexing</b> if we wish.",
      "metadata": {},
      "id": "dd99b492"
    },
    {
      "cell_type": "code",
      "source": "bacteria[0]",
      "metadata": {
        "trusted": true
      },
      "execution_count": 8,
      "outputs": [
        {
          "execution_count": 8,
          "output_type": "execute_result",
          "data": {
            "text/plain": "632"
          },
          "metadata": {}
        }
      ],
      "id": "e727842b"
    },
    {
      "cell_type": "markdown",
      "source": "NumPy's math functions and other operations can be applied to Series without losing the data structure.",
      "metadata": {},
      "id": "24b1847e"
    },
    {
      "cell_type": "code",
      "source": "bacteria + 3",
      "metadata": {
        "trusted": true
      },
      "execution_count": 9,
      "outputs": [
        {
          "execution_count": 9,
          "output_type": "execute_result",
          "data": {
            "text/plain": "Firmicutes         635\nProteobacteria    1641\nActinobacteria     572\nBacteroidetes      118\ndtype: int64"
          },
          "metadata": {}
        }
      ],
      "id": "4c3ae41b"
    },
    {
      "cell_type": "markdown",
      "source": "We can also filter according to the values in the `Series`:",
      "metadata": {},
      "id": "8900ff54"
    },
    {
      "cell_type": "code",
      "source": "bacteria[bacteria>1000]",
      "metadata": {
        "trusted": true
      },
      "execution_count": 10,
      "outputs": [
        {
          "execution_count": 10,
          "output_type": "execute_result",
          "data": {
            "text/plain": "Proteobacteria    1638\ndtype: int64"
          },
          "metadata": {}
        }
      ],
      "id": "b0f7328a"
    },
    {
      "cell_type": "markdown",
      "source": "### Exercise\nFilter the bacteria `Series` to keep only the values whose index end with the word \"bacteria\"",
      "metadata": {
        "tags": []
      },
      "id": "fe0dcd18-4c6b-4b3a-8e16-9eabd31668d0"
    },
    {
      "cell_type": "code",
      "source": "bacteria[bacteria.index.str.endswith('bacteria', na=False)]",
      "metadata": {
        "trusted": true
      },
      "execution_count": 13,
      "outputs": [
        {
          "execution_count": 13,
          "output_type": "execute_result",
          "data": {
            "text/plain": "Proteobacteria    1638\nActinobacteria     569\ndtype: int64"
          },
          "metadata": {}
        }
      ],
      "id": "9f236c33-5f95-41bc-9137-9d73720d75ff"
    },
    {
      "cell_type": "markdown",
      "source": "### DataFrame\n\nInevitably, we want to be able to store, view and manipulate data that is *multivariate*, where for every index there are multiple fields or columns of data, often of varying data type.\n\nA `DataFrame` is a tabular data structure, encapsulating multiple series like columns in a spreadsheet. Data are stored internally as a 2-dimensional object, but the `DataFrame` allows us to represent and manipulate higher-dimensional data.",
      "metadata": {
        "tags": []
      },
      "id": "112ad3c8"
    },
    {
      "cell_type": "code",
      "source": "data = pd.DataFrame({'value':[632, 1638, 569, 115, 433, 1130, 754, 555],\n                     'patient':[1, 1, 1, 1, 2, 2, 2, 2],\n                     'phylum':['Firmicutes', 'Proteobacteria', 'Actinobacteria', \n    'Bacteroidetes', 'Firmicutes', 'Proteobacteria', 'Actinobacteria', 'Bacteroidetes']})\ndata",
      "metadata": {
        "trusted": true
      },
      "execution_count": 14,
      "outputs": [
        {
          "execution_count": 14,
          "output_type": "execute_result",
          "data": {
            "text/plain": "   value  patient          phylum\n0    632        1      Firmicutes\n1   1638        1  Proteobacteria\n2    569        1  Actinobacteria\n3    115        1   Bacteroidetes\n4    433        2      Firmicutes\n5   1130        2  Proteobacteria\n6    754        2  Actinobacteria\n7    555        2   Bacteroidetes",
            "text/html": "<div>\n<style scoped>\n    .dataframe tbody tr th:only-of-type {\n        vertical-align: middle;\n    }\n\n    .dataframe tbody tr th {\n        vertical-align: top;\n    }\n\n    .dataframe thead th {\n        text-align: right;\n    }\n</style>\n<table border=\"1\" class=\"dataframe\">\n  <thead>\n    <tr style=\"text-align: right;\">\n      <th></th>\n      <th>value</th>\n      <th>patient</th>\n      <th>phylum</th>\n    </tr>\n  </thead>\n  <tbody>\n    <tr>\n      <th>0</th>\n      <td>632</td>\n      <td>1</td>\n      <td>Firmicutes</td>\n    </tr>\n    <tr>\n      <th>1</th>\n      <td>1638</td>\n      <td>1</td>\n      <td>Proteobacteria</td>\n    </tr>\n    <tr>\n      <th>2</th>\n      <td>569</td>\n      <td>1</td>\n      <td>Actinobacteria</td>\n    </tr>\n    <tr>\n      <th>3</th>\n      <td>115</td>\n      <td>1</td>\n      <td>Bacteroidetes</td>\n    </tr>\n    <tr>\n      <th>4</th>\n      <td>433</td>\n      <td>2</td>\n      <td>Firmicutes</td>\n    </tr>\n    <tr>\n      <th>5</th>\n      <td>1130</td>\n      <td>2</td>\n      <td>Proteobacteria</td>\n    </tr>\n    <tr>\n      <th>6</th>\n      <td>754</td>\n      <td>2</td>\n      <td>Actinobacteria</td>\n    </tr>\n    <tr>\n      <th>7</th>\n      <td>555</td>\n      <td>2</td>\n      <td>Bacteroidetes</td>\n    </tr>\n  </tbody>\n</table>\n</div>"
          },
          "metadata": {}
        }
      ],
      "id": "212c0329"
    },
    {
      "cell_type": "markdown",
      "source": "The `dtypes` attribute reveals the data type for each column in our DataFrame. \n\n- `int64` is numeric integer values \n- `object` strings (letters and numbers)\n- `float64` floating-point values",
      "metadata": {},
      "id": "37586c61"
    },
    {
      "cell_type": "code",
      "source": "data.dtypes",
      "metadata": {
        "trusted": true
      },
      "execution_count": 15,
      "outputs": [
        {
          "execution_count": 15,
          "output_type": "execute_result",
          "data": {
            "text/plain": "value       int64\npatient     int64\nphylum     object\ndtype: object"
          },
          "metadata": {}
        }
      ],
      "id": "9854129d"
    },
    {
      "cell_type": "markdown",
      "source": "If we wish to access columns, we can do so either by dict-like indexing or by attribute:",
      "metadata": {},
      "id": "05daddd1"
    },
    {
      "cell_type": "code",
      "source": "data['phylum']",
      "metadata": {
        "trusted": true
      },
      "execution_count": 18,
      "outputs": [
        {
          "execution_count": 18,
          "output_type": "execute_result",
          "data": {
            "text/plain": "0        Firmicutes\n1    Proteobacteria\n2    Actinobacteria\n3     Bacteroidetes\n4        Firmicutes\n5    Proteobacteria\n6    Actinobacteria\n7     Bacteroidetes\nName: phylum, dtype: object"
          },
          "metadata": {}
        }
      ],
      "id": "ad3a255d"
    },
    {
      "cell_type": "code",
      "source": "data.phylum",
      "metadata": {
        "trusted": true
      },
      "execution_count": 20,
      "outputs": [
        {
          "execution_count": 20,
          "output_type": "execute_result",
          "data": {
            "text/plain": "0        Firmicutes\n1    Proteobacteria\n2    Actinobacteria\n3     Bacteroidetes\n4        Firmicutes\n5    Proteobacteria\n6    Actinobacteria\n7     Bacteroidetes\nName: phylum, dtype: object"
          },
          "metadata": {}
        }
      ],
      "id": "359d30ea"
    },
    {
      "cell_type": "markdown",
      "source": "If we want access to a row or column in a `DataFrame`, we index its `loc` attribute.",
      "metadata": {},
      "id": "e3bdb29a"
    },
    {
      "cell_type": "code",
      "source": "data.loc[3]",
      "metadata": {
        "trusted": true
      },
      "execution_count": 21,
      "outputs": [
        {
          "execution_count": 21,
          "output_type": "execute_result",
          "data": {
            "text/plain": "value                115\npatient                1\nphylum     Bacteroidetes\nName: 3, dtype: object"
          },
          "metadata": {}
        }
      ],
      "id": "b1e44896"
    },
    {
      "cell_type": "code",
      "source": "data.loc[3, 'patient']",
      "metadata": {
        "trusted": true
      },
      "execution_count": 22,
      "outputs": [
        {
          "execution_count": 22,
          "output_type": "execute_result",
          "data": {
            "text/plain": "1"
          },
          "metadata": {}
        }
      ],
      "id": "282c51fc"
    },
    {
      "cell_type": "markdown",
      "source": "In addition to using `loc` to select rows and columns by **label**, pandas also allows indexing by **position** using the `iloc` attribute.\n\nSo, we can query rows and columns by absolute position, rather than by name:",
      "metadata": {},
      "id": "10a68456"
    },
    {
      "cell_type": "code",
      "source": "data.iloc[3] # in this case, index and absolute position match",
      "metadata": {
        "trusted": true
      },
      "execution_count": 23,
      "outputs": [
        {
          "execution_count": 23,
          "output_type": "execute_result",
          "data": {
            "text/plain": "value                115\npatient                1\nphylum     Bacteroidetes\nName: 3, dtype: object"
          },
          "metadata": {}
        }
      ],
      "id": "a6503f0c"
    },
    {
      "cell_type": "code",
      "source": "data.iloc[3, 1] # 'patient' column",
      "metadata": {
        "trusted": true
      },
      "execution_count": 24,
      "outputs": [
        {
          "execution_count": 24,
          "output_type": "execute_result",
          "data": {
            "text/plain": "1"
          },
          "metadata": {}
        }
      ],
      "id": "96e68371"
    },
    {
      "cell_type": "markdown",
      "source": "#### Exercise\n\nFind the size of the dimension of `data`. Hint: the [shape](https://pandas.pydata.org/pandas-docs/stable/reference/api/pandas.DataFrame.shape.html) method might be useful",
      "metadata": {},
      "id": "e1df58d0"
    },
    {
      "cell_type": "code",
      "source": "data.shape",
      "metadata": {
        "trusted": true
      },
      "execution_count": 25,
      "outputs": [
        {
          "execution_count": 25,
          "output_type": "execute_result",
          "data": {
            "text/plain": "(8, 3)"
          },
          "metadata": {}
        }
      ],
      "id": "30b30a69"
    },
    {
      "cell_type": "markdown",
      "source": "#### Exercise\n\nSelect the attribute `phylum` of the patient with index 4",
      "metadata": {},
      "id": "60883f1a-de58-40b6-a6af-fd107d8f5d8b"
    },
    {
      "cell_type": "code",
      "source": "data.iloc[3,2]",
      "metadata": {
        "trusted": true
      },
      "execution_count": 27,
      "outputs": [
        {
          "execution_count": 27,
          "output_type": "execute_result",
          "data": {
            "text/plain": "'Bacteroidetes'"
          },
          "metadata": {}
        }
      ],
      "id": "c4023975-e581-43df-9ada-e39561871375"
    },
    {
      "cell_type": "markdown",
      "source": "We can create or modify columns by assignment:",
      "metadata": {},
      "id": "9653ebd1"
    },
    {
      "cell_type": "code",
      "source": "data.value[[3,4,6]] = [14, 21, 5]\ndata",
      "metadata": {
        "trusted": true
      },
      "execution_count": 28,
      "outputs": [
        {
          "execution_count": 28,
          "output_type": "execute_result",
          "data": {
            "text/plain": "   value  patient          phylum\n0    632        1      Firmicutes\n1   1638        1  Proteobacteria\n2    569        1  Actinobacteria\n3     14        1   Bacteroidetes\n4     21        2      Firmicutes\n5   1130        2  Proteobacteria\n6      5        2  Actinobacteria\n7    555        2   Bacteroidetes",
            "text/html": "<div>\n<style scoped>\n    .dataframe tbody tr th:only-of-type {\n        vertical-align: middle;\n    }\n\n    .dataframe tbody tr th {\n        vertical-align: top;\n    }\n\n    .dataframe thead th {\n        text-align: right;\n    }\n</style>\n<table border=\"1\" class=\"dataframe\">\n  <thead>\n    <tr style=\"text-align: right;\">\n      <th></th>\n      <th>value</th>\n      <th>patient</th>\n      <th>phylum</th>\n    </tr>\n  </thead>\n  <tbody>\n    <tr>\n      <th>0</th>\n      <td>632</td>\n      <td>1</td>\n      <td>Firmicutes</td>\n    </tr>\n    <tr>\n      <th>1</th>\n      <td>1638</td>\n      <td>1</td>\n      <td>Proteobacteria</td>\n    </tr>\n    <tr>\n      <th>2</th>\n      <td>569</td>\n      <td>1</td>\n      <td>Actinobacteria</td>\n    </tr>\n    <tr>\n      <th>3</th>\n      <td>14</td>\n      <td>1</td>\n      <td>Bacteroidetes</td>\n    </tr>\n    <tr>\n      <th>4</th>\n      <td>21</td>\n      <td>2</td>\n      <td>Firmicutes</td>\n    </tr>\n    <tr>\n      <th>5</th>\n      <td>1130</td>\n      <td>2</td>\n      <td>Proteobacteria</td>\n    </tr>\n    <tr>\n      <th>6</th>\n      <td>5</td>\n      <td>2</td>\n      <td>Actinobacteria</td>\n    </tr>\n    <tr>\n      <th>7</th>\n      <td>555</td>\n      <td>2</td>\n      <td>Bacteroidetes</td>\n    </tr>\n  </tbody>\n</table>\n</div>"
          },
          "metadata": {}
        }
      ],
      "id": "05353ae6"
    },
    {
      "cell_type": "code",
      "source": "data['year'] = 2013\ndata",
      "metadata": {
        "trusted": true
      },
      "execution_count": 29,
      "outputs": [
        {
          "execution_count": 29,
          "output_type": "execute_result",
          "data": {
            "text/plain": "   value  patient          phylum  year\n0    632        1      Firmicutes  2013\n1   1638        1  Proteobacteria  2013\n2    569        1  Actinobacteria  2013\n3     14        1   Bacteroidetes  2013\n4     21        2      Firmicutes  2013\n5   1130        2  Proteobacteria  2013\n6      5        2  Actinobacteria  2013\n7    555        2   Bacteroidetes  2013",
            "text/html": "<div>\n<style scoped>\n    .dataframe tbody tr th:only-of-type {\n        vertical-align: middle;\n    }\n\n    .dataframe tbody tr th {\n        vertical-align: top;\n    }\n\n    .dataframe thead th {\n        text-align: right;\n    }\n</style>\n<table border=\"1\" class=\"dataframe\">\n  <thead>\n    <tr style=\"text-align: right;\">\n      <th></th>\n      <th>value</th>\n      <th>patient</th>\n      <th>phylum</th>\n      <th>year</th>\n    </tr>\n  </thead>\n  <tbody>\n    <tr>\n      <th>0</th>\n      <td>632</td>\n      <td>1</td>\n      <td>Firmicutes</td>\n      <td>2013</td>\n    </tr>\n    <tr>\n      <th>1</th>\n      <td>1638</td>\n      <td>1</td>\n      <td>Proteobacteria</td>\n      <td>2013</td>\n    </tr>\n    <tr>\n      <th>2</th>\n      <td>569</td>\n      <td>1</td>\n      <td>Actinobacteria</td>\n      <td>2013</td>\n    </tr>\n    <tr>\n      <th>3</th>\n      <td>14</td>\n      <td>1</td>\n      <td>Bacteroidetes</td>\n      <td>2013</td>\n    </tr>\n    <tr>\n      <th>4</th>\n      <td>21</td>\n      <td>2</td>\n      <td>Firmicutes</td>\n      <td>2013</td>\n    </tr>\n    <tr>\n      <th>5</th>\n      <td>1130</td>\n      <td>2</td>\n      <td>Proteobacteria</td>\n      <td>2013</td>\n    </tr>\n    <tr>\n      <th>6</th>\n      <td>5</td>\n      <td>2</td>\n      <td>Actinobacteria</td>\n      <td>2013</td>\n    </tr>\n    <tr>\n      <th>7</th>\n      <td>555</td>\n      <td>2</td>\n      <td>Bacteroidetes</td>\n      <td>2013</td>\n    </tr>\n  </tbody>\n</table>\n</div>"
          },
          "metadata": {}
        }
      ],
      "id": "4f810e6f"
    },
    {
      "cell_type": "markdown",
      "source": "#### Exercise\n\nFrom the `data` table above, return all rows for which the the value is greater than 1000.",
      "metadata": {
        "tags": []
      },
      "id": "5b423dc2-b175-456d-91e7-29ed6542b1e0"
    },
    {
      "cell_type": "code",
      "source": "data[data.value>1000]",
      "metadata": {
        "trusted": true
      },
      "execution_count": 30,
      "outputs": [
        {
          "execution_count": 30,
          "output_type": "execute_result",
          "data": {
            "text/plain": "   value  patient          phylum  year\n1   1638        1  Proteobacteria  2013\n5   1130        2  Proteobacteria  2013",
            "text/html": "<div>\n<style scoped>\n    .dataframe tbody tr th:only-of-type {\n        vertical-align: middle;\n    }\n\n    .dataframe tbody tr th {\n        vertical-align: top;\n    }\n\n    .dataframe thead th {\n        text-align: right;\n    }\n</style>\n<table border=\"1\" class=\"dataframe\">\n  <thead>\n    <tr style=\"text-align: right;\">\n      <th></th>\n      <th>value</th>\n      <th>patient</th>\n      <th>phylum</th>\n      <th>year</th>\n    </tr>\n  </thead>\n  <tbody>\n    <tr>\n      <th>1</th>\n      <td>1638</td>\n      <td>1</td>\n      <td>Proteobacteria</td>\n      <td>2013</td>\n    </tr>\n    <tr>\n      <th>5</th>\n      <td>1130</td>\n      <td>2</td>\n      <td>Proteobacteria</td>\n      <td>2013</td>\n    </tr>\n  </tbody>\n</table>\n</div>"
          },
          "metadata": {}
        }
      ],
      "id": "65abe49c-3eae-432f-bee2-9318e239fcf7"
    },
    {
      "cell_type": "markdown",
      "source": "#### Exercise\n\nFrom the `data` table above, create a new column `value_group` whose value is 1 when `value<=1000` otherwise is 2.",
      "metadata": {},
      "id": "a5f8b65c-6190-45a6-9fbb-7a3ffc5bf7d2"
    },
    {
      "cell_type": "code",
      "source": "data['value_group'] = 1\ndata.loc[data['value']>1000,'value_group']=2\ndata",
      "metadata": {
        "trusted": true
      },
      "execution_count": 53,
      "outputs": [
        {
          "execution_count": 53,
          "output_type": "execute_result",
          "data": {
            "text/plain": "   value  patient          phylum  year  value_group  treatment\n0    632        1      Firmicutes  2013            1        0.0\n1   1638        1  Proteobacteria  2013            2        0.0\n2    569        1  Actinobacteria  2013            1        0.0\n3     14        1   Bacteroidetes  2013            1        0.0\n4     21        2      Firmicutes  2013            1        1.0\n5   1130        2  Proteobacteria  2013            2        1.0\n6      5        2  Actinobacteria  2013            1        NaN\n7    555        2   Bacteroidetes  2013            1        NaN",
            "text/html": "<div>\n<style scoped>\n    .dataframe tbody tr th:only-of-type {\n        vertical-align: middle;\n    }\n\n    .dataframe tbody tr th {\n        vertical-align: top;\n    }\n\n    .dataframe thead th {\n        text-align: right;\n    }\n</style>\n<table border=\"1\" class=\"dataframe\">\n  <thead>\n    <tr style=\"text-align: right;\">\n      <th></th>\n      <th>value</th>\n      <th>patient</th>\n      <th>phylum</th>\n      <th>year</th>\n      <th>value_group</th>\n      <th>treatment</th>\n    </tr>\n  </thead>\n  <tbody>\n    <tr>\n      <th>0</th>\n      <td>632</td>\n      <td>1</td>\n      <td>Firmicutes</td>\n      <td>2013</td>\n      <td>1</td>\n      <td>0.0</td>\n    </tr>\n    <tr>\n      <th>1</th>\n      <td>1638</td>\n      <td>1</td>\n      <td>Proteobacteria</td>\n      <td>2013</td>\n      <td>2</td>\n      <td>0.0</td>\n    </tr>\n    <tr>\n      <th>2</th>\n      <td>569</td>\n      <td>1</td>\n      <td>Actinobacteria</td>\n      <td>2013</td>\n      <td>1</td>\n      <td>0.0</td>\n    </tr>\n    <tr>\n      <th>3</th>\n      <td>14</td>\n      <td>1</td>\n      <td>Bacteroidetes</td>\n      <td>2013</td>\n      <td>1</td>\n      <td>0.0</td>\n    </tr>\n    <tr>\n      <th>4</th>\n      <td>21</td>\n      <td>2</td>\n      <td>Firmicutes</td>\n      <td>2013</td>\n      <td>1</td>\n      <td>1.0</td>\n    </tr>\n    <tr>\n      <th>5</th>\n      <td>1130</td>\n      <td>2</td>\n      <td>Proteobacteria</td>\n      <td>2013</td>\n      <td>2</td>\n      <td>1.0</td>\n    </tr>\n    <tr>\n      <th>6</th>\n      <td>5</td>\n      <td>2</td>\n      <td>Actinobacteria</td>\n      <td>2013</td>\n      <td>1</td>\n      <td>NaN</td>\n    </tr>\n    <tr>\n      <th>7</th>\n      <td>555</td>\n      <td>2</td>\n      <td>Bacteroidetes</td>\n      <td>2013</td>\n      <td>1</td>\n      <td>NaN</td>\n    </tr>\n  </tbody>\n</table>\n</div>"
          },
          "metadata": {}
        }
      ],
      "id": "b6d59cf6-fdf3-42ae-9cd7-0abf0fca469f"
    },
    {
      "cell_type": "markdown",
      "source": "Specifying a `Series` as a new column causes its values to be added according to the `DataFrame`'s index:",
      "metadata": {},
      "id": "254086c7"
    },
    {
      "cell_type": "code",
      "source": "data['treatment'] = pd.Series([0]*4 + [1]*2)\ndata",
      "metadata": {
        "trusted": true
      },
      "execution_count": 54,
      "outputs": [
        {
          "execution_count": 54,
          "output_type": "execute_result",
          "data": {
            "text/plain": "   value  patient          phylum  year  value_group  treatment\n0    632        1      Firmicutes  2013            1        0.0\n1   1638        1  Proteobacteria  2013            2        0.0\n2    569        1  Actinobacteria  2013            1        0.0\n3     14        1   Bacteroidetes  2013            1        0.0\n4     21        2      Firmicutes  2013            1        1.0\n5   1130        2  Proteobacteria  2013            2        1.0\n6      5        2  Actinobacteria  2013            1        NaN\n7    555        2   Bacteroidetes  2013            1        NaN",
            "text/html": "<div>\n<style scoped>\n    .dataframe tbody tr th:only-of-type {\n        vertical-align: middle;\n    }\n\n    .dataframe tbody tr th {\n        vertical-align: top;\n    }\n\n    .dataframe thead th {\n        text-align: right;\n    }\n</style>\n<table border=\"1\" class=\"dataframe\">\n  <thead>\n    <tr style=\"text-align: right;\">\n      <th></th>\n      <th>value</th>\n      <th>patient</th>\n      <th>phylum</th>\n      <th>year</th>\n      <th>value_group</th>\n      <th>treatment</th>\n    </tr>\n  </thead>\n  <tbody>\n    <tr>\n      <th>0</th>\n      <td>632</td>\n      <td>1</td>\n      <td>Firmicutes</td>\n      <td>2013</td>\n      <td>1</td>\n      <td>0.0</td>\n    </tr>\n    <tr>\n      <th>1</th>\n      <td>1638</td>\n      <td>1</td>\n      <td>Proteobacteria</td>\n      <td>2013</td>\n      <td>2</td>\n      <td>0.0</td>\n    </tr>\n    <tr>\n      <th>2</th>\n      <td>569</td>\n      <td>1</td>\n      <td>Actinobacteria</td>\n      <td>2013</td>\n      <td>1</td>\n      <td>0.0</td>\n    </tr>\n    <tr>\n      <th>3</th>\n      <td>14</td>\n      <td>1</td>\n      <td>Bacteroidetes</td>\n      <td>2013</td>\n      <td>1</td>\n      <td>0.0</td>\n    </tr>\n    <tr>\n      <th>4</th>\n      <td>21</td>\n      <td>2</td>\n      <td>Firmicutes</td>\n      <td>2013</td>\n      <td>1</td>\n      <td>1.0</td>\n    </tr>\n    <tr>\n      <th>5</th>\n      <td>1130</td>\n      <td>2</td>\n      <td>Proteobacteria</td>\n      <td>2013</td>\n      <td>2</td>\n      <td>1.0</td>\n    </tr>\n    <tr>\n      <th>6</th>\n      <td>5</td>\n      <td>2</td>\n      <td>Actinobacteria</td>\n      <td>2013</td>\n      <td>1</td>\n      <td>NaN</td>\n    </tr>\n    <tr>\n      <th>7</th>\n      <td>555</td>\n      <td>2</td>\n      <td>Bacteroidetes</td>\n      <td>2013</td>\n      <td>1</td>\n      <td>NaN</td>\n    </tr>\n  </tbody>\n</table>\n</div>"
          },
          "metadata": {}
        }
      ],
      "id": "3593fe2e"
    },
    {
      "cell_type": "markdown",
      "source": "We can use the `drop` method to remove rows or columns, which by <b>default drops rows</b>. We can be explicit by using the `axis` argument:",
      "metadata": {},
      "id": "29f21a66"
    },
    {
      "cell_type": "code",
      "source": "data_notreatment = data.drop('treatment', axis=1)\ndata_notreatment",
      "metadata": {
        "trusted": true
      },
      "execution_count": 55,
      "outputs": [
        {
          "execution_count": 55,
          "output_type": "execute_result",
          "data": {
            "text/plain": "   value  patient          phylum  year  value_group\n0    632        1      Firmicutes  2013            1\n1   1638        1  Proteobacteria  2013            2\n2    569        1  Actinobacteria  2013            1\n3     14        1   Bacteroidetes  2013            1\n4     21        2      Firmicutes  2013            1\n5   1130        2  Proteobacteria  2013            2\n6      5        2  Actinobacteria  2013            1\n7    555        2   Bacteroidetes  2013            1",
            "text/html": "<div>\n<style scoped>\n    .dataframe tbody tr th:only-of-type {\n        vertical-align: middle;\n    }\n\n    .dataframe tbody tr th {\n        vertical-align: top;\n    }\n\n    .dataframe thead th {\n        text-align: right;\n    }\n</style>\n<table border=\"1\" class=\"dataframe\">\n  <thead>\n    <tr style=\"text-align: right;\">\n      <th></th>\n      <th>value</th>\n      <th>patient</th>\n      <th>phylum</th>\n      <th>year</th>\n      <th>value_group</th>\n    </tr>\n  </thead>\n  <tbody>\n    <tr>\n      <th>0</th>\n      <td>632</td>\n      <td>1</td>\n      <td>Firmicutes</td>\n      <td>2013</td>\n      <td>1</td>\n    </tr>\n    <tr>\n      <th>1</th>\n      <td>1638</td>\n      <td>1</td>\n      <td>Proteobacteria</td>\n      <td>2013</td>\n      <td>2</td>\n    </tr>\n    <tr>\n      <th>2</th>\n      <td>569</td>\n      <td>1</td>\n      <td>Actinobacteria</td>\n      <td>2013</td>\n      <td>1</td>\n    </tr>\n    <tr>\n      <th>3</th>\n      <td>14</td>\n      <td>1</td>\n      <td>Bacteroidetes</td>\n      <td>2013</td>\n      <td>1</td>\n    </tr>\n    <tr>\n      <th>4</th>\n      <td>21</td>\n      <td>2</td>\n      <td>Firmicutes</td>\n      <td>2013</td>\n      <td>1</td>\n    </tr>\n    <tr>\n      <th>5</th>\n      <td>1130</td>\n      <td>2</td>\n      <td>Proteobacteria</td>\n      <td>2013</td>\n      <td>2</td>\n    </tr>\n    <tr>\n      <th>6</th>\n      <td>5</td>\n      <td>2</td>\n      <td>Actinobacteria</td>\n      <td>2013</td>\n      <td>1</td>\n    </tr>\n    <tr>\n      <th>7</th>\n      <td>555</td>\n      <td>2</td>\n      <td>Bacteroidetes</td>\n      <td>2013</td>\n      <td>1</td>\n    </tr>\n  </tbody>\n</table>\n</div>"
          },
          "metadata": {}
        }
      ],
      "id": "d09d9a72"
    },
    {
      "cell_type": "code",
      "source": "data_notreatment.drop(0)",
      "metadata": {
        "trusted": true
      },
      "execution_count": 56,
      "outputs": [
        {
          "execution_count": 56,
          "output_type": "execute_result",
          "data": {
            "text/plain": "   value  patient          phylum  year  value_group\n1   1638        1  Proteobacteria  2013            2\n2    569        1  Actinobacteria  2013            1\n3     14        1   Bacteroidetes  2013            1\n4     21        2      Firmicutes  2013            1\n5   1130        2  Proteobacteria  2013            2\n6      5        2  Actinobacteria  2013            1\n7    555        2   Bacteroidetes  2013            1",
            "text/html": "<div>\n<style scoped>\n    .dataframe tbody tr th:only-of-type {\n        vertical-align: middle;\n    }\n\n    .dataframe tbody tr th {\n        vertical-align: top;\n    }\n\n    .dataframe thead th {\n        text-align: right;\n    }\n</style>\n<table border=\"1\" class=\"dataframe\">\n  <thead>\n    <tr style=\"text-align: right;\">\n      <th></th>\n      <th>value</th>\n      <th>patient</th>\n      <th>phylum</th>\n      <th>year</th>\n      <th>value_group</th>\n    </tr>\n  </thead>\n  <tbody>\n    <tr>\n      <th>1</th>\n      <td>1638</td>\n      <td>1</td>\n      <td>Proteobacteria</td>\n      <td>2013</td>\n      <td>2</td>\n    </tr>\n    <tr>\n      <th>2</th>\n      <td>569</td>\n      <td>1</td>\n      <td>Actinobacteria</td>\n      <td>2013</td>\n      <td>1</td>\n    </tr>\n    <tr>\n      <th>3</th>\n      <td>14</td>\n      <td>1</td>\n      <td>Bacteroidetes</td>\n      <td>2013</td>\n      <td>1</td>\n    </tr>\n    <tr>\n      <th>4</th>\n      <td>21</td>\n      <td>2</td>\n      <td>Firmicutes</td>\n      <td>2013</td>\n      <td>1</td>\n    </tr>\n    <tr>\n      <th>5</th>\n      <td>1130</td>\n      <td>2</td>\n      <td>Proteobacteria</td>\n      <td>2013</td>\n      <td>2</td>\n    </tr>\n    <tr>\n      <th>6</th>\n      <td>5</td>\n      <td>2</td>\n      <td>Actinobacteria</td>\n      <td>2013</td>\n      <td>1</td>\n    </tr>\n    <tr>\n      <th>7</th>\n      <td>555</td>\n      <td>2</td>\n      <td>Bacteroidetes</td>\n      <td>2013</td>\n      <td>1</td>\n    </tr>\n  </tbody>\n</table>\n</div>"
          },
          "metadata": {}
        }
      ],
      "id": "52545a7d"
    },
    {
      "cell_type": "markdown",
      "source": "## Importing data",
      "metadata": {},
      "id": "22b8d1c5"
    },
    {
      "cell_type": "markdown",
      "source": "A key, but often under-appreciated, step in data analysis is importing the data that we wish to analyze. Though it is easy to load basic data structures into Python using built-in tools or those provided by packages like NumPy, it is non-trivial to import structured data well, and to easily convert this input into a robust data structure:\n\n    genes = np.loadtxt(\"genes.csv\", delimiter=\",\", dtype=[('gene', '|S10'), ('value', '<f4')])\n\nPandas provides a convenient set of functions for importing tabular data from a number of formats directly into a `DataFrame` object. These functions include a slew of options to perform type inference, indexing, parsing, iterating and cleaning automatically as data are imported.",
      "metadata": {},
      "id": "0436773a"
    },
    {
      "cell_type": "markdown",
      "source": "Let's start with some more bacteria data, stored in csv format. This table can be read into a DataFrame using `read_csv`:",
      "metadata": {},
      "id": "27daad8b"
    },
    {
      "cell_type": "code",
      "source": "mb = pd.read_csv(\"data/microbiome.csv\", sep=',')\nmb.head()",
      "metadata": {
        "trusted": true
      },
      "execution_count": 57,
      "outputs": [
        {
          "execution_count": 57,
          "output_type": "execute_result",
          "data": {
            "text/plain": "        Taxon  Patient  Group  Tissue  Stool\n0  Firmicutes        1      0     136   4182\n1  Firmicutes        2      1    1174    703\n2  Firmicutes        3      0     408   3946\n3  Firmicutes        4      1     831   8605\n4  Firmicutes        5      0     693     50",
            "text/html": "<div>\n<style scoped>\n    .dataframe tbody tr th:only-of-type {\n        vertical-align: middle;\n    }\n\n    .dataframe tbody tr th {\n        vertical-align: top;\n    }\n\n    .dataframe thead th {\n        text-align: right;\n    }\n</style>\n<table border=\"1\" class=\"dataframe\">\n  <thead>\n    <tr style=\"text-align: right;\">\n      <th></th>\n      <th>Taxon</th>\n      <th>Patient</th>\n      <th>Group</th>\n      <th>Tissue</th>\n      <th>Stool</th>\n    </tr>\n  </thead>\n  <tbody>\n    <tr>\n      <th>0</th>\n      <td>Firmicutes</td>\n      <td>1</td>\n      <td>0</td>\n      <td>136</td>\n      <td>4182</td>\n    </tr>\n    <tr>\n      <th>1</th>\n      <td>Firmicutes</td>\n      <td>2</td>\n      <td>1</td>\n      <td>1174</td>\n      <td>703</td>\n    </tr>\n    <tr>\n      <th>2</th>\n      <td>Firmicutes</td>\n      <td>3</td>\n      <td>0</td>\n      <td>408</td>\n      <td>3946</td>\n    </tr>\n    <tr>\n      <th>3</th>\n      <td>Firmicutes</td>\n      <td>4</td>\n      <td>1</td>\n      <td>831</td>\n      <td>8605</td>\n    </tr>\n    <tr>\n      <th>4</th>\n      <td>Firmicutes</td>\n      <td>5</td>\n      <td>0</td>\n      <td>693</td>\n      <td>50</td>\n    </tr>\n  </tbody>\n</table>\n</div>"
          },
          "metadata": {}
        }
      ],
      "id": "08984187"
    },
    {
      "cell_type": "markdown",
      "source": "Notice that `read_csv` automatically considered the first row in the file to be a header row.",
      "metadata": {},
      "id": "203ccc45"
    },
    {
      "cell_type": "markdown",
      "source": "#### Missing Values\n\nMost real-world data is incomplete, with values missing due to incomplete observation, data entry or transcription error, or other reasons. Pandas will automatically recognize and parse common missing data indicators, including `NA` and `NULL`.",
      "metadata": {},
      "id": "f1e2508e"
    },
    {
      "cell_type": "code",
      "source": "pd.read_csv(\"./data/microbiome_missing.csv\").head(10)",
      "metadata": {
        "trusted": true
      },
      "execution_count": 58,
      "outputs": [
        {
          "execution_count": 58,
          "output_type": "execute_result",
          "data": {
            "text/plain": "        Taxon  Patient Tissue   Stool\n0  Firmicutes        1    632   305.0\n1  Firmicutes        2    136  4182.0\n2  Firmicutes        3    NaN   703.0\n3  Firmicutes        4    408  3946.0\n4  Firmicutes        5    831  8605.0\n5  Firmicutes        6    693    50.0\n6  Firmicutes        7    718   717.0\n7  Firmicutes        8    173    33.0\n8  Firmicutes        9    228     NaN\n9  Firmicutes       10    162  3196.0",
            "text/html": "<div>\n<style scoped>\n    .dataframe tbody tr th:only-of-type {\n        vertical-align: middle;\n    }\n\n    .dataframe tbody tr th {\n        vertical-align: top;\n    }\n\n    .dataframe thead th {\n        text-align: right;\n    }\n</style>\n<table border=\"1\" class=\"dataframe\">\n  <thead>\n    <tr style=\"text-align: right;\">\n      <th></th>\n      <th>Taxon</th>\n      <th>Patient</th>\n      <th>Tissue</th>\n      <th>Stool</th>\n    </tr>\n  </thead>\n  <tbody>\n    <tr>\n      <th>0</th>\n      <td>Firmicutes</td>\n      <td>1</td>\n      <td>632</td>\n      <td>305.0</td>\n    </tr>\n    <tr>\n      <th>1</th>\n      <td>Firmicutes</td>\n      <td>2</td>\n      <td>136</td>\n      <td>4182.0</td>\n    </tr>\n    <tr>\n      <th>2</th>\n      <td>Firmicutes</td>\n      <td>3</td>\n      <td>NaN</td>\n      <td>703.0</td>\n    </tr>\n    <tr>\n      <th>3</th>\n      <td>Firmicutes</td>\n      <td>4</td>\n      <td>408</td>\n      <td>3946.0</td>\n    </tr>\n    <tr>\n      <th>4</th>\n      <td>Firmicutes</td>\n      <td>5</td>\n      <td>831</td>\n      <td>8605.0</td>\n    </tr>\n    <tr>\n      <th>5</th>\n      <td>Firmicutes</td>\n      <td>6</td>\n      <td>693</td>\n      <td>50.0</td>\n    </tr>\n    <tr>\n      <th>6</th>\n      <td>Firmicutes</td>\n      <td>7</td>\n      <td>718</td>\n      <td>717.0</td>\n    </tr>\n    <tr>\n      <th>7</th>\n      <td>Firmicutes</td>\n      <td>8</td>\n      <td>173</td>\n      <td>33.0</td>\n    </tr>\n    <tr>\n      <th>8</th>\n      <td>Firmicutes</td>\n      <td>9</td>\n      <td>228</td>\n      <td>NaN</td>\n    </tr>\n    <tr>\n      <th>9</th>\n      <td>Firmicutes</td>\n      <td>10</td>\n      <td>162</td>\n      <td>3196.0</td>\n    </tr>\n  </tbody>\n</table>\n</div>"
          },
          "metadata": {}
        }
      ],
      "id": "06bf5cda"
    },
    {
      "cell_type": "markdown",
      "source": "Above, Pandas recognized `NA` and an empty field as missing data.",
      "metadata": {},
      "id": "249e8f55"
    },
    {
      "cell_type": "code",
      "source": "pd.isnull(pd.read_csv(\"./data/microbiome_missing.csv\")).head(10)",
      "metadata": {
        "trusted": true
      },
      "execution_count": 59,
      "outputs": [
        {
          "execution_count": 59,
          "output_type": "execute_result",
          "data": {
            "text/plain": "   Taxon  Patient  Tissue  Stool\n0  False    False   False  False\n1  False    False   False  False\n2  False    False    True  False\n3  False    False   False  False\n4  False    False   False  False\n5  False    False   False  False\n6  False    False   False  False\n7  False    False   False  False\n8  False    False   False   True\n9  False    False   False  False",
            "text/html": "<div>\n<style scoped>\n    .dataframe tbody tr th:only-of-type {\n        vertical-align: middle;\n    }\n\n    .dataframe tbody tr th {\n        vertical-align: top;\n    }\n\n    .dataframe thead th {\n        text-align: right;\n    }\n</style>\n<table border=\"1\" class=\"dataframe\">\n  <thead>\n    <tr style=\"text-align: right;\">\n      <th></th>\n      <th>Taxon</th>\n      <th>Patient</th>\n      <th>Tissue</th>\n      <th>Stool</th>\n    </tr>\n  </thead>\n  <tbody>\n    <tr>\n      <th>0</th>\n      <td>False</td>\n      <td>False</td>\n      <td>False</td>\n      <td>False</td>\n    </tr>\n    <tr>\n      <th>1</th>\n      <td>False</td>\n      <td>False</td>\n      <td>False</td>\n      <td>False</td>\n    </tr>\n    <tr>\n      <th>2</th>\n      <td>False</td>\n      <td>False</td>\n      <td>True</td>\n      <td>False</td>\n    </tr>\n    <tr>\n      <th>3</th>\n      <td>False</td>\n      <td>False</td>\n      <td>False</td>\n      <td>False</td>\n    </tr>\n    <tr>\n      <th>4</th>\n      <td>False</td>\n      <td>False</td>\n      <td>False</td>\n      <td>False</td>\n    </tr>\n    <tr>\n      <th>5</th>\n      <td>False</td>\n      <td>False</td>\n      <td>False</td>\n      <td>False</td>\n    </tr>\n    <tr>\n      <th>6</th>\n      <td>False</td>\n      <td>False</td>\n      <td>False</td>\n      <td>False</td>\n    </tr>\n    <tr>\n      <th>7</th>\n      <td>False</td>\n      <td>False</td>\n      <td>False</td>\n      <td>False</td>\n    </tr>\n    <tr>\n      <th>8</th>\n      <td>False</td>\n      <td>False</td>\n      <td>False</td>\n      <td>True</td>\n    </tr>\n    <tr>\n      <th>9</th>\n      <td>False</td>\n      <td>False</td>\n      <td>False</td>\n      <td>False</td>\n    </tr>\n  </tbody>\n</table>\n</div>"
          },
          "metadata": {}
        }
      ],
      "id": "116f82e2"
    },
    {
      "cell_type": "markdown",
      "source": "#### Exercise\n\nYou can use the [isin](https://pandas.pydata.org/docs/reference/api/pandas.DataFrame.isin.html) method query a DataFrame based upon a list of values as follows: \n\n    data['phylum'].isin(['Firmicutes', 'Bacteroidetes'])\n\nUse `isin` on `baseball`to find all players that played for the Los Angeles Dodgers (LAN) or the San Francisco Giants (SFN). How many records contain these values?",
      "metadata": {},
      "id": "20144e39"
    },
    {
      "cell_type": "code",
      "source": "baseball = pd.read_csv(\"./data/baseball.csv\", index_col='id')",
      "metadata": {
        "trusted": true
      },
      "execution_count": 62,
      "outputs": [],
      "id": "0df39864"
    },
    {
      "cell_type": "code",
      "source": "len(baseball[baseball['team'].isin(['LAN', 'SFN'])])",
      "metadata": {
        "trusted": true
      },
      "execution_count": 73,
      "outputs": [
        {
          "execution_count": 73,
          "output_type": "execute_result",
          "data": {
            "text/plain": "15"
          },
          "metadata": {}
        }
      ],
      "id": "291af14f"
    },
    {
      "cell_type": "markdown",
      "source": "## Operations\n\n`DataFrame` and `Series` objects allow for several operations to take place either on a single object, or between two or more objects.\n\nFor example, we can perform arithmetic on the elements of two objects, such as combining baseball statistics across years. First, let's (artificially) construct two Series, consisting of home runs hit in years 2006 and 2007, respectively:",
      "metadata": {},
      "id": "24ca94de"
    },
    {
      "cell_type": "code",
      "source": "hr2006 = baseball.loc[baseball.year==2006, 'hr']\nhr2006.index = baseball.player[baseball.year==2006]\n\nhr2007 = baseball.loc[baseball.year==2007, 'hr']\nhr2007.index = baseball.player[baseball.year==2007]",
      "metadata": {
        "trusted": true
      },
      "execution_count": 69,
      "outputs": [],
      "id": "079968f7"
    },
    {
      "cell_type": "code",
      "source": "print(hr2006.head(10))\nprint(hr2007.head(10))",
      "metadata": {
        "trusted": true
      },
      "execution_count": 70,
      "outputs": [
        {
          "name": "stdout",
          "text": "player\nwomacto01     1\nschilcu01     0\nmyersmi01     0\nhelliri01     0\njohnsra05     0\nfinlest01     6\ngonzalu01    15\nseleaa01      0\nName: hr, dtype: int64\nplayer\nfrancju01     0\nfrancju01     1\nzaungr01     10\nwitasja01     0\nwilliwo02     1\nwickmbo01     0\nwickmbo01     0\nwhitero02     4\nwhiteri01     0\nwellsda01     0\nName: hr, dtype: int64\n",
          "output_type": "stream"
        }
      ],
      "id": "96f8ba0b"
    },
    {
      "cell_type": "markdown",
      "source": "Now, let's add them together, in hopes of getting 2-year home run totals:",
      "metadata": {},
      "id": "daadf2b1"
    },
    {
      "cell_type": "code",
      "source": "hr_total = hr2006 + hr2007\nhr_total.head(20)",
      "metadata": {
        "trusted": true
      },
      "execution_count": 74,
      "outputs": [
        {
          "execution_count": 74,
          "output_type": "execute_result",
          "data": {
            "text/plain": "player\nalomasa02    NaN\naloumo01     NaN\nausmubr01    NaN\nbenitar01    NaN\nbenitar01    NaN\nbiggicr01    NaN\nbondsba01    NaN\ncirilje01    NaN\ncirilje01    NaN\nclaytro01    NaN\nclaytro01    NaN\nclemero02    NaN\nconinje01    NaN\nconinje01    NaN\ncormirh01    NaN\ndelgaca01    NaN\neasleda01    NaN\nedmonji01    NaN\nembreal01    NaN\nfinlest01    7.0\nName: hr, dtype: float64"
          },
          "metadata": {}
        }
      ],
      "id": "27639979"
    },
    {
      "cell_type": "markdown",
      "source": "Pandas' data alignment places `NaN` values for labels that do not overlap in the two Series. In fact, there are only 6 players that occur in both years.",
      "metadata": {},
      "id": "a4ed20a7"
    },
    {
      "cell_type": "code",
      "source": "hr_total[hr_total.notnull()]",
      "metadata": {
        "trusted": true
      },
      "execution_count": 75,
      "outputs": [
        {
          "execution_count": 75,
          "output_type": "execute_result",
          "data": {
            "text/plain": "player\nfinlest01     7.0\ngonzalu01    30.0\njohnsra05     0.0\nmyersmi01     0.0\nschilcu01     0.0\nseleaa01      0.0\nName: hr, dtype: float64"
          },
          "metadata": {}
        }
      ],
      "id": "138e7e3d"
    },
    {
      "cell_type": "markdown",
      "source": "While we do want the operation to honor the data labels in this way, we probably do not want the missing values to be filled with `NaN`. We can use the `add` method to calculate player home run totals by using the `fill_value` argument to insert a zero for home runs where labels do not overlap:",
      "metadata": {},
      "id": "d730a416"
    },
    {
      "cell_type": "code",
      "source": "hr2007.add(hr2006, fill_value=0).head(20)",
      "metadata": {
        "trusted": true
      },
      "execution_count": 76,
      "outputs": [
        {
          "execution_count": 76,
          "output_type": "execute_result",
          "data": {
            "text/plain": "player\nalomasa02     0.0\naloumo01     13.0\nausmubr01     3.0\nbenitar01     0.0\nbenitar01     0.0\nbiggicr01    10.0\nbondsba01    28.0\ncirilje01     0.0\ncirilje01     2.0\nclaytro01     0.0\nclaytro01     1.0\nclemero02     0.0\nconinje01     0.0\nconinje01     6.0\ncormirh01     0.0\ndelgaca01    24.0\neasleda01    10.0\nedmonji01    12.0\nembreal01     0.0\nfinlest01     7.0\nName: hr, dtype: float64"
          },
          "metadata": {}
        }
      ],
      "id": "b1af67e4"
    },
    {
      "cell_type": "markdown",
      "source": "### Exercise\n\nFind the player with the most home runs of season 2006",
      "metadata": {},
      "id": "fde1ab4b-47ba-4d75-b787-99d09bc4dcb3"
    },
    {
      "cell_type": "code",
      "source": "hr2006[hr2006==hr2006.max()]",
      "metadata": {
        "trusted": true
      },
      "execution_count": 90,
      "outputs": [
        {
          "execution_count": 90,
          "output_type": "execute_result",
          "data": {
            "text/plain": "player\ngonzalu01    15\nName: hr, dtype: int64"
          },
          "metadata": {}
        }
      ],
      "id": "ca6b9c35-6976-4b08-89a2-9929d13fa36a"
    },
    {
      "cell_type": "markdown",
      "source": "## Missing data\n\nThe occurence of missing data is so prevalent that it pays to use tools like Pandas, which seamlessly integrates missing data handling so that it can be dealt with easily, and in the manner required by the analysis at hand.\n\nMissing data are represented in `Series` and `DataFrame` objects by the `NaN` floating point value. However, `None` is also treated as missing, since it is commonly used as such in other contexts (*e.g.* NumPy).",
      "metadata": {},
      "id": "daf3d4c5"
    },
    {
      "cell_type": "code",
      "source": "foo = pd.Series([np.nan, -3, None, 'foobar'])\nfoo",
      "metadata": {
        "trusted": true
      },
      "execution_count": 91,
      "outputs": [
        {
          "execution_count": 91,
          "output_type": "execute_result",
          "data": {
            "text/plain": "0       NaN\n1        -3\n2      None\n3    foobar\ndtype: object"
          },
          "metadata": {}
        }
      ],
      "id": "a9be94cf"
    },
    {
      "cell_type": "code",
      "source": "foo.isnull()",
      "metadata": {
        "trusted": true
      },
      "execution_count": 92,
      "outputs": [
        {
          "execution_count": 92,
          "output_type": "execute_result",
          "data": {
            "text/plain": "0     True\n1    False\n2     True\n3    False\ndtype: bool"
          },
          "metadata": {}
        }
      ],
      "id": "119140f2"
    },
    {
      "cell_type": "markdown",
      "source": "Missing values may be dropped using `dropna`",
      "metadata": {},
      "id": "4b635b32"
    },
    {
      "cell_type": "code",
      "source": "foo.dropna()",
      "metadata": {
        "trusted": true
      },
      "execution_count": 94,
      "outputs": [
        {
          "execution_count": 94,
          "output_type": "execute_result",
          "data": {
            "text/plain": "1        -3\n3    foobar\ndtype: object"
          },
          "metadata": {}
        }
      ],
      "id": "c175a17a"
    },
    {
      "cell_type": "markdown",
      "source": "Rather than omitting missing data from an analysis, in some cases it may be suitable to fill the missing value in, either with a default value (such as zero) or a value that is either imputed or carried forward/backward from similar data points. We can do this programmatically in Pandas with the `fillna` argument.",
      "metadata": {},
      "id": "fb7a6003"
    },
    {
      "cell_type": "code",
      "source": "bacteria_dict = { 'Firmicutes': 632, \n                  'Proteobacteria': 1638, \n                  'Actinobacteria': 569,\n                  'Bacteroidetes': 115 }\nbacteria2 = pd.Series(bacteria_dict, \n                      index=['Cyanobacteria','Firmicutes',\n                             'Proteobacteria','Actinobacteria'])\nbacteria2",
      "metadata": {
        "trusted": true
      },
      "execution_count": 95,
      "outputs": [
        {
          "execution_count": 95,
          "output_type": "execute_result",
          "data": {
            "text/plain": "Cyanobacteria        NaN\nFirmicutes         632.0\nProteobacteria    1638.0\nActinobacteria     569.0\ndtype: float64"
          },
          "metadata": {}
        }
      ],
      "id": "adf4ea3d"
    },
    {
      "cell_type": "code",
      "source": "bacteria2.fillna(0)",
      "metadata": {
        "trusted": true
      },
      "execution_count": 96,
      "outputs": [
        {
          "execution_count": 96,
          "output_type": "execute_result",
          "data": {
            "text/plain": "Cyanobacteria        0.0\nFirmicutes         632.0\nProteobacteria    1638.0\nActinobacteria     569.0\ndtype: float64"
          },
          "metadata": {}
        }
      ],
      "id": "f9f52efb"
    },
    {
      "cell_type": "markdown",
      "source": "Missing values can also be interpolated, using any one of a variety of methods:",
      "metadata": {},
      "id": "4bb5df9d"
    },
    {
      "cell_type": "code",
      "source": "bacteria2.fillna(method='bfill')",
      "metadata": {
        "trusted": true
      },
      "execution_count": 97,
      "outputs": [
        {
          "execution_count": 97,
          "output_type": "execute_result",
          "data": {
            "text/plain": "Cyanobacteria      632.0\nFirmicutes         632.0\nProteobacteria    1638.0\nActinobacteria     569.0\ndtype: float64"
          },
          "metadata": {}
        }
      ],
      "id": "552adc0b"
    },
    {
      "cell_type": "markdown",
      "source": "## Data summarization\n\nWe often wish to summarize data in `Series` or `DataFrame` objects, so that they can more easily be understood or compared with similar data. The NumPy package contains several functions that are useful here, but several summarization or reduction methods are built into Pandas data structures.",
      "metadata": {},
      "id": "33ebf626"
    },
    {
      "cell_type": "code",
      "source": "baseball.sum()",
      "metadata": {
        "trusted": true
      },
      "execution_count": 98,
      "outputs": [
        {
          "execution_count": 98,
          "output_type": "execute_result",
          "data": {
            "text/plain": "player    womacto01schilcu01myersmi01helliri01johnsra05f...\nyear                                                 200692\nstint                                                   113\nteam      CHNBOSNYAMILNYASFNARILANATLNYNTORTBAHOUARIATLM...\nlg        NLALALNLALNLNLNLNLNLALALNLNLNLALNLNLNLNLALALNL...\ng                                                      5238\nab                                                    13654\nr                                                      1869\nh                                                      3582\nX2b                                                     739\nX3b                                                      55\nhr                                                      437\nrbi                                                  1847.0\nsb                                                    138.0\ncs                                                     46.0\nbb                                                     1549\nso                                                   2408.0\nibb                                                   177.0\nhbp                                                   112.0\nsh                                                    138.0\nsf                                                    120.0\ngidp                                                  354.0\ndtype: object"
          },
          "metadata": {}
        }
      ],
      "id": "1c7c7646"
    },
    {
      "cell_type": "markdown",
      "source": "Clearly, `sum` is more meaningful for some columns than others. For methods like `mean` for which application to string variables is not just meaningless, but impossible, these columns are <b>automatically exculded</b>:",
      "metadata": {},
      "id": "09679d46"
    },
    {
      "cell_type": "code",
      "source": "baseball.mean()",
      "metadata": {
        "trusted": true
      },
      "execution_count": 99,
      "outputs": [
        {
          "name": "stderr",
          "text": "<ipython-input-99-6deba1cb6760>:1: FutureWarning: Dropping of nuisance columns in DataFrame reductions (with 'numeric_only=None') is deprecated; in a future version this will raise TypeError.  Select only valid columns before calling the reduction.\n  baseball.mean()\n",
          "output_type": "stream"
        },
        {
          "execution_count": 99,
          "output_type": "execute_result",
          "data": {
            "text/plain": "year     2006.92\nstint       1.13\ng          52.38\nab        136.54\nr          18.69\nh          35.82\nX2b         7.39\nX3b         0.55\nhr          4.37\nrbi        18.47\nsb          1.38\ncs          0.46\nbb         15.49\nso         24.08\nibb         1.77\nhbp         1.12\nsh          1.38\nsf          1.20\ngidp        3.54\ndtype: float64"
          },
          "metadata": {}
        }
      ],
      "id": "481c6681"
    },
    {
      "cell_type": "markdown",
      "source": "The important difference between NumPy's functions and Pandas' methods is that the latter have built-in support for handling missing data.",
      "metadata": {},
      "id": "7378666a"
    },
    {
      "cell_type": "code",
      "source": "bacteria2",
      "metadata": {
        "trusted": true
      },
      "execution_count": 100,
      "outputs": [
        {
          "execution_count": 100,
          "output_type": "execute_result",
          "data": {
            "text/plain": "Cyanobacteria        NaN\nFirmicutes         632.0\nProteobacteria    1638.0\nActinobacteria     569.0\ndtype: float64"
          },
          "metadata": {}
        }
      ],
      "id": "fda4ade4"
    },
    {
      "cell_type": "code",
      "source": "bacteria2.mean()",
      "metadata": {
        "trusted": true
      },
      "execution_count": 101,
      "outputs": [
        {
          "execution_count": 101,
          "output_type": "execute_result",
          "data": {
            "text/plain": "946.3333333333334"
          },
          "metadata": {}
        }
      ],
      "id": "d5cea493"
    },
    {
      "cell_type": "markdown",
      "source": "A useful summarization that gives a quick snapshot of multiple statistics for a `Series` or `DataFrame` is `describe`:",
      "metadata": {},
      "id": "555cc113"
    },
    {
      "cell_type": "code",
      "source": "baseball.describe()",
      "metadata": {
        "trusted": true
      },
      "execution_count": 102,
      "outputs": [
        {
          "execution_count": 102,
          "output_type": "execute_result",
          "data": {
            "text/plain": "             year       stint           g          ab          r           h  \\\ncount   100.00000  100.000000  100.000000  100.000000  100.00000  100.000000   \nmean   2006.92000    1.130000   52.380000  136.540000   18.69000   35.820000   \nstd       0.27266    0.337998   48.031299  181.936853   27.77496   50.221807   \nmin    2006.00000    1.000000    1.000000    0.000000    0.00000    0.000000   \n25%    2007.00000    1.000000    9.500000    2.000000    0.00000    0.000000   \n50%    2007.00000    1.000000   33.000000   40.500000    2.00000    8.000000   \n75%    2007.00000    1.000000   83.250000  243.750000   33.25000   62.750000   \nmax    2007.00000    2.000000  155.000000  586.000000  107.00000  159.000000   \n\n              X2b         X3b          hr        rbi          sb          cs  \\\ncount  100.000000  100.000000  100.000000  100.00000  100.000000  100.000000   \nmean     7.390000    0.550000    4.370000   18.47000    1.380000    0.460000   \nstd     11.117277    1.445124    7.975537   28.34793    3.694878    1.067613   \nmin      0.000000    0.000000    0.000000    0.00000    0.000000    0.000000   \n25%      0.000000    0.000000    0.000000    0.00000    0.000000    0.000000   \n50%      1.000000    0.000000    0.000000    2.00000    0.000000    0.000000   \n75%     11.750000    1.000000    6.000000   27.00000    1.000000    0.000000   \nmax     52.000000   12.000000   35.000000   96.00000   22.000000    6.000000   \n\n               bb          so         ibb        hbp          sh          sf  \\\ncount  100.000000  100.000000  100.000000  100.00000  100.000000  100.000000   \nmean    15.490000   24.080000    1.770000    1.12000    1.380000    1.200000   \nstd     25.812649   32.804496    5.042957    2.23055    2.919042    2.035046   \nmin      0.000000    0.000000    0.000000    0.00000    0.000000    0.000000   \n25%      0.000000    1.000000    0.000000    0.00000    0.000000    0.000000   \n50%      1.000000    7.000000    0.000000    0.00000    0.000000    0.000000   \n75%     19.250000   37.250000    1.250000    1.00000    1.000000    2.000000   \nmax    132.000000  134.000000   43.000000   11.00000   14.000000    9.000000   \n\n             gidp  \ncount  100.000000  \nmean     3.540000  \nstd      5.201826  \nmin      0.000000  \n25%      0.000000  \n50%      1.000000  \n75%      6.000000  \nmax     21.000000  ",
            "text/html": "<div>\n<style scoped>\n    .dataframe tbody tr th:only-of-type {\n        vertical-align: middle;\n    }\n\n    .dataframe tbody tr th {\n        vertical-align: top;\n    }\n\n    .dataframe thead th {\n        text-align: right;\n    }\n</style>\n<table border=\"1\" class=\"dataframe\">\n  <thead>\n    <tr style=\"text-align: right;\">\n      <th></th>\n      <th>year</th>\n      <th>stint</th>\n      <th>g</th>\n      <th>ab</th>\n      <th>r</th>\n      <th>h</th>\n      <th>X2b</th>\n      <th>X3b</th>\n      <th>hr</th>\n      <th>rbi</th>\n      <th>sb</th>\n      <th>cs</th>\n      <th>bb</th>\n      <th>so</th>\n      <th>ibb</th>\n      <th>hbp</th>\n      <th>sh</th>\n      <th>sf</th>\n      <th>gidp</th>\n    </tr>\n  </thead>\n  <tbody>\n    <tr>\n      <th>count</th>\n      <td>100.00000</td>\n      <td>100.000000</td>\n      <td>100.000000</td>\n      <td>100.000000</td>\n      <td>100.00000</td>\n      <td>100.000000</td>\n      <td>100.000000</td>\n      <td>100.000000</td>\n      <td>100.000000</td>\n      <td>100.00000</td>\n      <td>100.000000</td>\n      <td>100.000000</td>\n      <td>100.000000</td>\n      <td>100.000000</td>\n      <td>100.000000</td>\n      <td>100.00000</td>\n      <td>100.000000</td>\n      <td>100.000000</td>\n      <td>100.000000</td>\n    </tr>\n    <tr>\n      <th>mean</th>\n      <td>2006.92000</td>\n      <td>1.130000</td>\n      <td>52.380000</td>\n      <td>136.540000</td>\n      <td>18.69000</td>\n      <td>35.820000</td>\n      <td>7.390000</td>\n      <td>0.550000</td>\n      <td>4.370000</td>\n      <td>18.47000</td>\n      <td>1.380000</td>\n      <td>0.460000</td>\n      <td>15.490000</td>\n      <td>24.080000</td>\n      <td>1.770000</td>\n      <td>1.12000</td>\n      <td>1.380000</td>\n      <td>1.200000</td>\n      <td>3.540000</td>\n    </tr>\n    <tr>\n      <th>std</th>\n      <td>0.27266</td>\n      <td>0.337998</td>\n      <td>48.031299</td>\n      <td>181.936853</td>\n      <td>27.77496</td>\n      <td>50.221807</td>\n      <td>11.117277</td>\n      <td>1.445124</td>\n      <td>7.975537</td>\n      <td>28.34793</td>\n      <td>3.694878</td>\n      <td>1.067613</td>\n      <td>25.812649</td>\n      <td>32.804496</td>\n      <td>5.042957</td>\n      <td>2.23055</td>\n      <td>2.919042</td>\n      <td>2.035046</td>\n      <td>5.201826</td>\n    </tr>\n    <tr>\n      <th>min</th>\n      <td>2006.00000</td>\n      <td>1.000000</td>\n      <td>1.000000</td>\n      <td>0.000000</td>\n      <td>0.00000</td>\n      <td>0.000000</td>\n      <td>0.000000</td>\n      <td>0.000000</td>\n      <td>0.000000</td>\n      <td>0.00000</td>\n      <td>0.000000</td>\n      <td>0.000000</td>\n      <td>0.000000</td>\n      <td>0.000000</td>\n      <td>0.000000</td>\n      <td>0.00000</td>\n      <td>0.000000</td>\n      <td>0.000000</td>\n      <td>0.000000</td>\n    </tr>\n    <tr>\n      <th>25%</th>\n      <td>2007.00000</td>\n      <td>1.000000</td>\n      <td>9.500000</td>\n      <td>2.000000</td>\n      <td>0.00000</td>\n      <td>0.000000</td>\n      <td>0.000000</td>\n      <td>0.000000</td>\n      <td>0.000000</td>\n      <td>0.00000</td>\n      <td>0.000000</td>\n      <td>0.000000</td>\n      <td>0.000000</td>\n      <td>1.000000</td>\n      <td>0.000000</td>\n      <td>0.00000</td>\n      <td>0.000000</td>\n      <td>0.000000</td>\n      <td>0.000000</td>\n    </tr>\n    <tr>\n      <th>50%</th>\n      <td>2007.00000</td>\n      <td>1.000000</td>\n      <td>33.000000</td>\n      <td>40.500000</td>\n      <td>2.00000</td>\n      <td>8.000000</td>\n      <td>1.000000</td>\n      <td>0.000000</td>\n      <td>0.000000</td>\n      <td>2.00000</td>\n      <td>0.000000</td>\n      <td>0.000000</td>\n      <td>1.000000</td>\n      <td>7.000000</td>\n      <td>0.000000</td>\n      <td>0.00000</td>\n      <td>0.000000</td>\n      <td>0.000000</td>\n      <td>1.000000</td>\n    </tr>\n    <tr>\n      <th>75%</th>\n      <td>2007.00000</td>\n      <td>1.000000</td>\n      <td>83.250000</td>\n      <td>243.750000</td>\n      <td>33.25000</td>\n      <td>62.750000</td>\n      <td>11.750000</td>\n      <td>1.000000</td>\n      <td>6.000000</td>\n      <td>27.00000</td>\n      <td>1.000000</td>\n      <td>0.000000</td>\n      <td>19.250000</td>\n      <td>37.250000</td>\n      <td>1.250000</td>\n      <td>1.00000</td>\n      <td>1.000000</td>\n      <td>2.000000</td>\n      <td>6.000000</td>\n    </tr>\n    <tr>\n      <th>max</th>\n      <td>2007.00000</td>\n      <td>2.000000</td>\n      <td>155.000000</td>\n      <td>586.000000</td>\n      <td>107.00000</td>\n      <td>159.000000</td>\n      <td>52.000000</td>\n      <td>12.000000</td>\n      <td>35.000000</td>\n      <td>96.00000</td>\n      <td>22.000000</td>\n      <td>6.000000</td>\n      <td>132.000000</td>\n      <td>134.000000</td>\n      <td>43.000000</td>\n      <td>11.00000</td>\n      <td>14.000000</td>\n      <td>9.000000</td>\n      <td>21.000000</td>\n    </tr>\n  </tbody>\n</table>\n</div>"
          },
          "metadata": {}
        }
      ],
      "id": "0d568af9"
    },
    {
      "cell_type": "markdown",
      "source": "`describe` can detect non-numeric data and sometimes yield useful information about it.",
      "metadata": {},
      "id": "a1e47f34"
    },
    {
      "cell_type": "code",
      "source": "baseball.player.describe()",
      "metadata": {
        "trusted": true
      },
      "execution_count": 103,
      "outputs": [
        {
          "execution_count": 103,
          "output_type": "execute_result",
          "data": {
            "text/plain": "count           100\nunique           82\ntop       wellsda01\nfreq              2\nName: player, dtype: object"
          },
          "metadata": {}
        }
      ],
      "id": "9e1295ed"
    },
    {
      "cell_type": "markdown",
      "source": "### Exercise\n\nFind the average number of home runs of season 2006",
      "metadata": {},
      "id": "5c2903bb-d7d4-43ab-8876-0cf67a5505a6"
    },
    {
      "cell_type": "code",
      "source": "hr2006.mean()",
      "metadata": {
        "trusted": true
      },
      "execution_count": 105,
      "outputs": [
        {
          "execution_count": 105,
          "output_type": "execute_result",
          "data": {
            "text/plain": "2.75"
          },
          "metadata": {}
        }
      ],
      "id": "d9a33374-2489-4c32-9d8a-2227187af526"
    },
    {
      "cell_type": "markdown",
      "source": "# Data Wrangling with Pandas\n\nNow that we have been exposed to the basic functionality of Pandas, let's explore some more advanced features that will be useful when addressing more complex data management tasks.\n\nAs most statisticians/data analysts will admit, often the lion's share of the time spent implementing an analysis is devoted to preparing the data itself, rather than to coding or running a particular model that uses the data. This is where Pandas and  Python's standard library are beneficial, providing high-level, flexible, and efficient tools for manipulating your data as needed.\n",
      "metadata": {},
      "id": "bec15428"
    },
    {
      "cell_type": "markdown",
      "source": "## Merging and joining DataFrame objects",
      "metadata": {},
      "id": "d68eed96"
    },
    {
      "cell_type": "markdown",
      "source": "In Pandas, we can combine tables according to the value of one or more *keys* that are used to identify rows, much like an index. Using a trivial example:",
      "metadata": {},
      "id": "6b6f0314"
    },
    {
      "cell_type": "code",
      "source": "df1 = pd.DataFrame(dict(id=range(4), age=np.random.randint(18, 31, size=4)))\ndf2 = pd.DataFrame(dict(id=list(range(3))+list(range(3)), \n                        score=np.random.random(size=6)))\n\ndf1",
      "metadata": {
        "trusted": true
      },
      "execution_count": 106,
      "outputs": [
        {
          "execution_count": 106,
          "output_type": "execute_result",
          "data": {
            "text/plain": "   id  age\n0   0   27\n1   1   25\n2   2   27\n3   3   21",
            "text/html": "<div>\n<style scoped>\n    .dataframe tbody tr th:only-of-type {\n        vertical-align: middle;\n    }\n\n    .dataframe tbody tr th {\n        vertical-align: top;\n    }\n\n    .dataframe thead th {\n        text-align: right;\n    }\n</style>\n<table border=\"1\" class=\"dataframe\">\n  <thead>\n    <tr style=\"text-align: right;\">\n      <th></th>\n      <th>id</th>\n      <th>age</th>\n    </tr>\n  </thead>\n  <tbody>\n    <tr>\n      <th>0</th>\n      <td>0</td>\n      <td>27</td>\n    </tr>\n    <tr>\n      <th>1</th>\n      <td>1</td>\n      <td>25</td>\n    </tr>\n    <tr>\n      <th>2</th>\n      <td>2</td>\n      <td>27</td>\n    </tr>\n    <tr>\n      <th>3</th>\n      <td>3</td>\n      <td>21</td>\n    </tr>\n  </tbody>\n</table>\n</div>"
          },
          "metadata": {}
        }
      ],
      "id": "2cc0ec78"
    },
    {
      "cell_type": "code",
      "source": "df2",
      "metadata": {
        "trusted": true
      },
      "execution_count": 107,
      "outputs": [
        {
          "execution_count": 107,
          "output_type": "execute_result",
          "data": {
            "text/plain": "   id     score\n0   0  0.146875\n1   1  0.763267\n2   2  0.750738\n3   0  0.150649\n4   1  0.084362\n5   2  0.827457",
            "text/html": "<div>\n<style scoped>\n    .dataframe tbody tr th:only-of-type {\n        vertical-align: middle;\n    }\n\n    .dataframe tbody tr th {\n        vertical-align: top;\n    }\n\n    .dataframe thead th {\n        text-align: right;\n    }\n</style>\n<table border=\"1\" class=\"dataframe\">\n  <thead>\n    <tr style=\"text-align: right;\">\n      <th></th>\n      <th>id</th>\n      <th>score</th>\n    </tr>\n  </thead>\n  <tbody>\n    <tr>\n      <th>0</th>\n      <td>0</td>\n      <td>0.146875</td>\n    </tr>\n    <tr>\n      <th>1</th>\n      <td>1</td>\n      <td>0.763267</td>\n    </tr>\n    <tr>\n      <th>2</th>\n      <td>2</td>\n      <td>0.750738</td>\n    </tr>\n    <tr>\n      <th>3</th>\n      <td>0</td>\n      <td>0.150649</td>\n    </tr>\n    <tr>\n      <th>4</th>\n      <td>1</td>\n      <td>0.084362</td>\n    </tr>\n    <tr>\n      <th>5</th>\n      <td>2</td>\n      <td>0.827457</td>\n    </tr>\n  </tbody>\n</table>\n</div>"
          },
          "metadata": {}
        }
      ],
      "id": "31696a22"
    },
    {
      "cell_type": "code",
      "source": "pd.merge(df1, df2)",
      "metadata": {
        "trusted": true
      },
      "execution_count": 108,
      "outputs": [
        {
          "execution_count": 108,
          "output_type": "execute_result",
          "data": {
            "text/plain": "   id  age     score\n0   0   27  0.146875\n1   0   27  0.150649\n2   1   25  0.763267\n3   1   25  0.084362\n4   2   27  0.750738\n5   2   27  0.827457",
            "text/html": "<div>\n<style scoped>\n    .dataframe tbody tr th:only-of-type {\n        vertical-align: middle;\n    }\n\n    .dataframe tbody tr th {\n        vertical-align: top;\n    }\n\n    .dataframe thead th {\n        text-align: right;\n    }\n</style>\n<table border=\"1\" class=\"dataframe\">\n  <thead>\n    <tr style=\"text-align: right;\">\n      <th></th>\n      <th>id</th>\n      <th>age</th>\n      <th>score</th>\n    </tr>\n  </thead>\n  <tbody>\n    <tr>\n      <th>0</th>\n      <td>0</td>\n      <td>27</td>\n      <td>0.146875</td>\n    </tr>\n    <tr>\n      <th>1</th>\n      <td>0</td>\n      <td>27</td>\n      <td>0.150649</td>\n    </tr>\n    <tr>\n      <th>2</th>\n      <td>1</td>\n      <td>25</td>\n      <td>0.763267</td>\n    </tr>\n    <tr>\n      <th>3</th>\n      <td>1</td>\n      <td>25</td>\n      <td>0.084362</td>\n    </tr>\n    <tr>\n      <th>4</th>\n      <td>2</td>\n      <td>27</td>\n      <td>0.750738</td>\n    </tr>\n    <tr>\n      <th>5</th>\n      <td>2</td>\n      <td>27</td>\n      <td>0.827457</td>\n    </tr>\n  </tbody>\n</table>\n</div>"
          },
          "metadata": {}
        }
      ],
      "id": "ef17d370"
    },
    {
      "cell_type": "markdown",
      "source": "Notice that without any information about which column to use as a key, Pandas did the right thing and used the `id` column in both tables. Unless specified otherwise, `merge` will used any common column names as keys for merging the tables. \n\nNotice also that `id=3` from `df1` was omitted from the merged table. This is because, by default, `merge` performs an **inner join** on the tables, meaning that the merged table represents an intersection of the two tables.",
      "metadata": {},
      "id": "d6a29989"
    },
    {
      "cell_type": "code",
      "source": "pd.merge(df1, df2, how='outer')",
      "metadata": {},
      "execution_count": null,
      "outputs": [],
      "id": "b50c5a7b"
    },
    {
      "cell_type": "markdown",
      "source": "The **outer join** above yields the union of the two tables, so all rows are represented, with missing values inserted as appropriate. One can also perform **right** and **left** joins to include all rows of the right or left table (*i.e.* first or second argument to `merge`), but not necessarily the other.",
      "metadata": {},
      "id": "b1f80843"
    },
    {
      "cell_type": "markdown",
      "source": "## Data aggregation and GroupBy operations\n\nOne of the most powerful features of Pandas is its [**GroupBy**](https://pandas.pydata.org/pandas-docs/stable/reference/api/pandas.DataFrame.groupby.html) functionality. On some occasions we may want to perform operations on *groups* of observations within a dataset. For example:\n\n* **aggregation**, such as computing the sum of mean of each group, which involves applying a function to each group and returning the aggregated results\n* **slicing** the DataFrame into groups and then doing something with the resulting slices (*e.g.* plotting)\n* group-wise **transformation**, such as standardization/normalization",
      "metadata": {},
      "id": "ce3168e1"
    },
    {
      "cell_type": "code",
      "source": "cdystonia = pd.read_csv(\"./data/cdystonia.csv\", index_col=None)\ncdystonia.head()",
      "metadata": {},
      "execution_count": null,
      "outputs": [],
      "id": "25b1828b"
    },
    {
      "cell_type": "code",
      "source": "cdystonia_grouped = cdystonia.groupby(cdystonia.patient)",
      "metadata": {},
      "execution_count": null,
      "outputs": [],
      "id": "e201fac3"
    },
    {
      "cell_type": "markdown",
      "source": "However, the grouping is only an intermediate step; for example, we may want to **iterate** over each of the patient groups:",
      "metadata": {},
      "id": "ed0163e5"
    },
    {
      "cell_type": "markdown",
      "source": "A common data analysis procedure is the **split-apply-combine** operation, which groups subsets of data together, applies a function to each of the groups, then recombines them into a new data table.\n\nFor example, we may want to aggregate our data with with some function.\n\n<img src=\"./img/split-apply-combine.jpg\">",
      "metadata": {},
      "id": "de0f436e"
    },
    {
      "cell_type": "markdown",
      "source": "For example, we can compute the mean of each attribute per patient group",
      "metadata": {},
      "id": "1aad2a36"
    },
    {
      "cell_type": "code",
      "source": "cdystonia_grouped.mean().head() #equivalent ",
      "metadata": {},
      "execution_count": null,
      "outputs": [],
      "id": "e7b1dfb3"
    },
    {
      "cell_type": "markdown",
      "source": "Notice that the `treat` and `sex` variables are <b>not included in the aggregation</b>. Since it does not make sense to aggregate string variables, these columns are simply ignored by the method.",
      "metadata": {},
      "id": "09623679"
    },
    {
      "cell_type": "markdown",
      "source": "If we wish, we can easily aggregate according to multiple keys:",
      "metadata": {},
      "id": "4060e824"
    },
    {
      "cell_type": "code",
      "source": "cdystonia.groupby(['week','site']).mean().head()",
      "metadata": {},
      "execution_count": null,
      "outputs": [],
      "id": "d786897b"
    },
    {
      "cell_type": "markdown",
      "source": "### Exercise\nUsing `cdystonia_grouped` variable from above, calculate the median of the column `twstrs` for each patient group",
      "metadata": {},
      "id": "0d63517e-12d1-46c9-8109-e5d138fc84b8"
    },
    {
      "cell_type": "code",
      "source": "sol = ...\n\nsol.head(10)",
      "metadata": {},
      "execution_count": null,
      "outputs": [],
      "id": "26984bf2-8055-4ef5-bd06-588dd23bfd00"
    },
    {
      "cell_type": "markdown",
      "source": "## References\n\n[1] [Python for Data Analysis](http://shop.oreilly.com/product/0636920023784.do) Wes McKinney",
      "metadata": {},
      "id": "99fac6a7"
    }
  ]
}